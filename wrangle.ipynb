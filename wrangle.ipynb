{
 "cells": [
  {
   "cell_type": "markdown",
   "id": "20ec63e7-4f32-4722-bd00-beede1c908f5",
   "metadata": {},
   "source": [
    "# Spark Wrangle Exercises"
   ]
  },
  {
   "cell_type": "code",
   "execution_count": 1,
   "id": "6cb18eac-7c66-48bf-b9af-4f1d926c3602",
   "metadata": {},
   "outputs": [],
   "source": [
    "from pyspark.sql import SparkSession\n",
    "from pyspark.sql.functions import *\n",
    "\n",
    "spark = SparkSession.builder.getOrCreate()"
   ]
  },
  {
   "cell_type": "markdown",
   "id": "5c383343-85e2-467e-8c44-4c06ae771351",
   "metadata": {},
   "source": [
    "This exercises uses the `case.csv`, `dept.csv` and `source.csv` files from the san antonio 311 call dataset."
   ]
  },
  {
   "cell_type": "markdown",
   "id": "aa27a130-8031-4468-bb49-3cb06ef310c3",
   "metadata": {},
   "source": [
    "## 1."
   ]
  },
  {
   "cell_type": "markdown",
   "id": "065497ed-79ed-47c0-86ae-eda62992fa7a",
   "metadata": {},
   "source": [
    "Read the `case`, `department`, and `source` data into their own spark dataframes."
   ]
  },
  {
   "cell_type": "code",
   "execution_count": 2,
   "id": "9023495a-531d-43f3-b1f9-8c11782946cd",
   "metadata": {},
   "outputs": [],
   "source": [
    "source = spark.read.csv(\"source.csv\", sep=\",\", header=True, inferSchema=True)"
   ]
  },
  {
   "cell_type": "code",
   "execution_count": 3,
   "id": "bd78a548-1951-4638-8435-97d20fd78cfe",
   "metadata": {},
   "outputs": [
    {
     "name": "stdout",
     "output_type": "stream",
     "text": [
      "+---------+----------------+\n",
      "|source_id| source_username|\n",
      "+---------+----------------+\n",
      "|   100137|Merlene Blodgett|\n",
      "|   103582|     Carmen Cura|\n",
      "|   106463| Richard Sanchez|\n",
      "|   119403|  Betty De Hoyos|\n",
      "|   119555|  Socorro Quiara|\n",
      "+---------+----------------+\n",
      "only showing top 5 rows\n",
      "\n"
     ]
    }
   ],
   "source": [
    "source.show(5)"
   ]
  },
  {
   "cell_type": "code",
   "execution_count": 4,
   "id": "241b7797-587b-4801-ab88-fc0907b5b0be",
   "metadata": {},
   "outputs": [],
   "source": [
    "dept = spark.read.csv(\"dept.csv\", sep=\",\", header=True, inferSchema=True)"
   ]
  },
  {
   "cell_type": "code",
   "execution_count": 5,
   "id": "19f39c2d-b9f1-47c1-8aa5-faeeb018d169",
   "metadata": {},
   "outputs": [
    {
     "name": "stdout",
     "output_type": "stream",
     "text": [
      "+--------------------+--------------------+----------------------+-------------------+\n",
      "|       dept_division|           dept_name|standardized_dept_name|dept_subject_to_SLA|\n",
      "+--------------------+--------------------+----------------------+-------------------+\n",
      "|     311 Call Center|    Customer Service|      Customer Service|                YES|\n",
      "|               Brush|Solid Waste Manag...|           Solid Waste|                YES|\n",
      "|     Clean and Green|Parks and Recreation|    Parks & Recreation|                YES|\n",
      "|Clean and Green N...|Parks and Recreation|    Parks & Recreation|                YES|\n",
      "|    Code Enforcement|Code Enforcement ...|  DSD/Code Enforcement|                YES|\n",
      "+--------------------+--------------------+----------------------+-------------------+\n",
      "only showing top 5 rows\n",
      "\n"
     ]
    }
   ],
   "source": [
    "dept.show(5)"
   ]
  },
  {
   "cell_type": "code",
   "execution_count": 6,
   "id": "6e8fa462-7b33-4e1a-a7e3-0a228b7e8f00",
   "metadata": {},
   "outputs": [],
   "source": [
    "case = spark.read.csv(\"case.csv\", sep=\",\", header=True, inferSchema=True)"
   ]
  },
  {
   "cell_type": "code",
   "execution_count": 7,
   "id": "ada04dcf-7cf8-49d1-ac93-facfa98d595c",
   "metadata": {},
   "outputs": [
    {
     "name": "stdout",
     "output_type": "stream",
     "text": [
      "-RECORD 0----------------------------------------------------\n",
      " case_id              | 1014127332                           \n",
      " case_opened_date     | 1/1/18 0:42                          \n",
      " case_closed_date     | 1/1/18 12:29                         \n",
      " SLA_due_date         | 9/26/20 0:42                         \n",
      " case_late            | NO                                   \n",
      " num_days_late        | -998.5087616000001                   \n",
      " case_closed          | YES                                  \n",
      " dept_division        | Field Operations                     \n",
      " service_request_type | Stray Animal                         \n",
      " SLA_days             | 999.0                                \n",
      " case_status          | Closed                               \n",
      " source_id            | svcCRMLS                             \n",
      " request_address      | 2315  EL PASO ST, San Antonio, 78207 \n",
      " council_district     | 5                                    \n",
      "-RECORD 1----------------------------------------------------\n",
      " case_id              | 1014127333                           \n",
      " case_opened_date     | 1/1/18 0:46                          \n",
      " case_closed_date     | 1/3/18 8:11                          \n",
      " SLA_due_date         | 1/5/18 8:30                          \n",
      " case_late            | NO                                   \n",
      " num_days_late        | -2.0126041669999997                  \n",
      " case_closed          | YES                                  \n",
      " dept_division        | Storm Water                          \n",
      " service_request_type | Removal Of Obstruction               \n",
      " SLA_days             | 4.322222222                          \n",
      " case_status          | Closed                               \n",
      " source_id            | svcCRMSS                             \n",
      " request_address      | 2215  GOLIAD RD, San Antonio, 78223  \n",
      " council_district     | 3                                    \n",
      "only showing top 2 rows\n",
      "\n"
     ]
    }
   ],
   "source": [
    "case.show(2, vertical=True, truncate=False)"
   ]
  },
  {
   "cell_type": "markdown",
   "id": "c56fdf54-0010-4ca0-8baf-f3c44d52f8d0",
   "metadata": {},
   "source": [
    "## 2."
   ]
  },
  {
   "cell_type": "markdown",
   "id": "cc39ada0-b557-44a7-bec8-81d2f3dc76e1",
   "metadata": {},
   "source": [
    "Let's see how writing to the local disk works in spark:\n",
    "- Write the code necessary to store the source data in both csv and json format, store these as `sources_csv` and `sources_json`"
   ]
  },
  {
   "cell_type": "code",
   "execution_count": 8,
   "id": "f41415d5-139c-4dff-a944-36c17a1df390",
   "metadata": {},
   "outputs": [],
   "source": [
    "source.write.json(\"sources_json\", mode=\"overwrite\")"
   ]
  },
  {
   "cell_type": "code",
   "execution_count": 9,
   "id": "63fe81c6-abf2-46da-b0b4-71e38ce51550",
   "metadata": {},
   "outputs": [],
   "source": [
    "source.write.csv('sources_csv', mode='overwrite', header=True)"
   ]
  },
  {
   "cell_type": "markdown",
   "id": "bcba2162-06fb-4d46-ab53-20358fea7333",
   "metadata": {},
   "source": [
    "- Inspect your folder structure. What do you notice?\n",
    "    - One file has no contents and is just named _SUCCESS\n",
    "    - The other file has the contents of the dataframe"
   ]
  },
  {
   "cell_type": "markdown",
   "id": "d765c0ae-03fd-4289-9364-f4bb856eb155",
   "metadata": {},
   "source": [
    "## 3."
   ]
  },
  {
   "cell_type": "markdown",
   "id": "504dab9e-bdc5-4724-8620-d09ee9621002",
   "metadata": {},
   "source": [
    "Inspect the data in your dataframes. Are the data types appropriate? Write the code necessary to cast the values to the appropriate types."
   ]
  },
  {
   "cell_type": "markdown",
   "id": "72282572-9533-4866-9dae-5efaca4a022e",
   "metadata": {},
   "source": [
    "### Case"
   ]
  },
  {
   "cell_type": "code",
   "execution_count": 10,
   "id": "ff6d3ba6-b492-4f0e-8302-73373b630b18",
   "metadata": {},
   "outputs": [
    {
     "name": "stdout",
     "output_type": "stream",
     "text": [
      "root\n",
      " |-- case_id: integer (nullable = true)\n",
      " |-- case_opened_date: string (nullable = true)\n",
      " |-- case_closed_date: string (nullable = true)\n",
      " |-- SLA_due_date: string (nullable = true)\n",
      " |-- case_late: string (nullable = true)\n",
      " |-- num_days_late: double (nullable = true)\n",
      " |-- case_closed: string (nullable = true)\n",
      " |-- dept_division: string (nullable = true)\n",
      " |-- service_request_type: string (nullable = true)\n",
      " |-- SLA_days: double (nullable = true)\n",
      " |-- case_status: string (nullable = true)\n",
      " |-- source_id: string (nullable = true)\n",
      " |-- request_address: string (nullable = true)\n",
      " |-- council_district: integer (nullable = true)\n",
      "\n"
     ]
    }
   ],
   "source": [
    "case.printSchema()"
   ]
  },
  {
   "cell_type": "markdown",
   "id": "99061536-f7af-4b17-9af6-72f14c582b8b",
   "metadata": {},
   "source": [
    "- Need to convert dates to datetime format\n",
    "- Yes and no columns need to be converted to booleans (`case_closed`, `case_late`)\n",
    "- `council_district` needs to be converted to string"
   ]
  },
  {
   "cell_type": "code",
   "execution_count": 11,
   "id": "389a53e1-f589-4935-a6f6-c41e7d0abf97",
   "metadata": {},
   "outputs": [],
   "source": [
    "# rename column to make naming consistent and more readable\n",
    "case = case.withColumnRenamed(\"SLA_due_date\", \"case_due_date\")"
   ]
  },
  {
   "cell_type": "code",
   "execution_count": 12,
   "id": "11b3a4c9-ad33-4b2d-83d3-33d91f6ac4a9",
   "metadata": {},
   "outputs": [
    {
     "name": "stdout",
     "output_type": "stream",
     "text": [
      "--- Before handling dates\n",
      "+----------------+----------------+-------------+\n",
      "|case_opened_date|case_closed_date|case_due_date|\n",
      "+----------------+----------------+-------------+\n",
      "|     1/1/18 0:42|    1/1/18 12:29| 9/26/20 0:42|\n",
      "|     1/1/18 0:46|     1/3/18 8:11|  1/5/18 8:30|\n",
      "|     1/1/18 0:48|     1/2/18 7:57|  1/5/18 8:30|\n",
      "|     1/1/18 1:29|     1/2/18 8:13| 1/17/18 8:30|\n",
      "|     1/1/18 1:34|    1/1/18 13:29|  1/1/18 4:34|\n",
      "+----------------+----------------+-------------+\n",
      "only showing top 5 rows\n",
      "\n",
      "--- After\n",
      "+-------------------+-------------------+-------------------+\n",
      "|   case_opened_date|   case_closed_date|      case_due_date|\n",
      "+-------------------+-------------------+-------------------+\n",
      "|2018-01-01 00:42:00|2018-01-01 12:29:00|2020-09-26 00:42:00|\n",
      "|2018-01-01 00:46:00|2018-01-03 08:11:00|2018-01-05 08:30:00|\n",
      "|2018-01-01 00:48:00|2018-01-02 07:57:00|2018-01-05 08:30:00|\n",
      "|2018-01-01 01:29:00|2018-01-02 08:13:00|2018-01-17 08:30:00|\n",
      "|2018-01-01 01:34:00|2018-01-01 13:29:00|2018-01-01 04:34:00|\n",
      "+-------------------+-------------------+-------------------+\n",
      "only showing top 5 rows\n",
      "\n"
     ]
    }
   ],
   "source": [
    "# Change date data types\n",
    "print(\"--- Before handling dates\")\n",
    "case.select(\"case_opened_date\", \"case_closed_date\", \"case_due_date\").show(5)\n",
    "\n",
    "fmt = \"M/d/yy H:mm\"\n",
    "case = (\n",
    "    case.withColumn(\"case_opened_date\", to_timestamp(\"case_opened_date\", fmt))\n",
    "    .withColumn(\"case_closed_date\", to_timestamp(\"case_closed_date\", fmt))\n",
    "    .withColumn(\"case_due_date\", to_timestamp(\"case_due_date\", fmt))\n",
    ")\n",
    "\n",
    "print(\"--- After\")\n",
    "case.select(\"case_opened_date\", \"case_closed_date\", \"case_due_date\").show(5)"
   ]
  },
  {
   "cell_type": "code",
   "execution_count": 13,
   "id": "83c01a3a-7803-4d0e-bb8c-b679a0cf3e7d",
   "metadata": {},
   "outputs": [
    {
     "name": "stdout",
     "output_type": "stream",
     "text": [
      "+---------+------+\n",
      "|case_late| count|\n",
      "+---------+------+\n",
      "|      YES| 94503|\n",
      "|       NO|747201|\n",
      "+---------+------+\n",
      "\n"
     ]
    }
   ],
   "source": [
    "# check yes and no columns to ensure there are only two categories\n",
    "case.groupBy('case_late').count().show()"
   ]
  },
  {
   "cell_type": "code",
   "execution_count": 14,
   "id": "a7cff693-f729-4cd2-a611-8cef619caa2a",
   "metadata": {},
   "outputs": [
    {
     "name": "stdout",
     "output_type": "stream",
     "text": [
      "+-----------+------+\n",
      "|case_closed| count|\n",
      "+-----------+------+\n",
      "|        YES|823594|\n",
      "|         NO| 18110|\n",
      "+-----------+------+\n",
      "\n"
     ]
    }
   ],
   "source": [
    "case.groupBy('case_closed').count().show()"
   ]
  },
  {
   "cell_type": "code",
   "execution_count": 15,
   "id": "e1b9f846-7c5a-4437-b2d6-27efcb04e1dd",
   "metadata": {},
   "outputs": [
    {
     "name": "stdout",
     "output_type": "stream",
     "text": [
      "+-----------+------+\n",
      "|case_status| count|\n",
      "+-----------+------+\n",
      "|       Open| 18110|\n",
      "|     Closed|823594|\n",
      "+-----------+------+\n",
      "\n"
     ]
    }
   ],
   "source": [
    "case.groupBy('case_status').count().show()"
   ]
  },
  {
   "cell_type": "code",
   "execution_count": 16,
   "id": "9c9301ad-1c16-47f3-8c10-cfb10f7f7630",
   "metadata": {},
   "outputs": [],
   "source": [
    "# drop this column since it is same info as case_closed\n",
    "case = case.drop('case_status')"
   ]
  },
  {
   "cell_type": "code",
   "execution_count": 17,
   "id": "805f8827-e445-42f2-a040-b4392ddcdaf7",
   "metadata": {},
   "outputs": [
    {
     "name": "stdout",
     "output_type": "stream",
     "text": [
      "+-----------+---------+\n",
      "|case_closed|case_late|\n",
      "+-----------+---------+\n",
      "|       true|    false|\n",
      "|       true|    false|\n",
      "|       true|    false|\n",
      "|       true|    false|\n",
      "|       true|     true|\n",
      "+-----------+---------+\n",
      "only showing top 5 rows\n",
      "\n"
     ]
    }
   ],
   "source": [
    "# convert yes and no columns to booleans\n",
    "case = case.withColumn(\"case_closed\", expr('case_closed == \"YES\"')).withColumn(\n",
    "    \"case_late\", expr('case_late == \"YES\"')\n",
    ")\n",
    "\n",
    "case.select(\"case_closed\", \"case_late\").show(5)"
   ]
  },
  {
   "cell_type": "code",
   "execution_count": 18,
   "id": "c4c032a2-f4c6-4d3d-a29f-4be8867e6684",
   "metadata": {},
   "outputs": [
    {
     "name": "stdout",
     "output_type": "stream",
     "text": [
      "+----------------+------+\n",
      "|council_district| count|\n",
      "+----------------+------+\n",
      "|               1|119309|\n",
      "|               6| 74095|\n",
      "|               3|102706|\n",
      "|               5|114609|\n",
      "|               9| 40916|\n",
      "|               4| 93778|\n",
      "|               8| 42345|\n",
      "|               7| 72445|\n",
      "|              10| 62926|\n",
      "|               2|114745|\n",
      "|               0|  3830|\n",
      "+----------------+------+\n",
      "\n"
     ]
    }
   ],
   "source": [
    "# take a look at different values for council_district\n",
    "case.groupBy('council_district').count().show()"
   ]
  },
  {
   "cell_type": "code",
   "execution_count": 19,
   "id": "5658b7af-fb77-4200-86c6-4e33925b960e",
   "metadata": {},
   "outputs": [],
   "source": [
    "# convert council district to a string\n",
    "case = case.withColumn(\"council_district\", col(\"council_district\").cast(\"string\"))"
   ]
  },
  {
   "cell_type": "code",
   "execution_count": 20,
   "id": "a1022cd4-e4d2-45cf-804e-001f0958a6c5",
   "metadata": {},
   "outputs": [
    {
     "name": "stdout",
     "output_type": "stream",
     "text": [
      "-RECORD 0----------------------------------------------------\n",
      " case_id              | 1014127332                           \n",
      " case_opened_date     | 2018-01-01 00:42:00                  \n",
      " case_closed_date     | 2018-01-01 12:29:00                  \n",
      " case_due_date        | 2020-09-26 00:42:00                  \n",
      " case_late            | false                                \n",
      " num_days_late        | -998.5087616000001                   \n",
      " case_closed          | true                                 \n",
      " dept_division        | Field Operations                     \n",
      " service_request_type | Stray Animal                         \n",
      " SLA_days             | 999.0                                \n",
      " source_id            | svcCRMLS                             \n",
      " request_address      | 2315  EL PASO ST, San Antonio, 78207 \n",
      " council_district     | 5                                    \n",
      "-RECORD 1----------------------------------------------------\n",
      " case_id              | 1014127333                           \n",
      " case_opened_date     | 2018-01-01 00:46:00                  \n",
      " case_closed_date     | 2018-01-03 08:11:00                  \n",
      " case_due_date        | 2018-01-05 08:30:00                  \n",
      " case_late            | false                                \n",
      " num_days_late        | -2.0126041669999997                  \n",
      " case_closed          | true                                 \n",
      " dept_division        | Storm Water                          \n",
      " service_request_type | Removal Of Obstruction               \n",
      " SLA_days             | 4.322222222                          \n",
      " source_id            | svcCRMSS                             \n",
      " request_address      | 2215  GOLIAD RD, San Antonio, 78223  \n",
      " council_district     | 3                                    \n",
      "only showing top 2 rows\n",
      "\n"
     ]
    }
   ],
   "source": [
    "case.show(2, vertical=True, truncate=False)"
   ]
  },
  {
   "cell_type": "code",
   "execution_count": 21,
   "id": "0c270794-d70c-4a9e-afaa-edff03b11fa9",
   "metadata": {},
   "outputs": [
    {
     "name": "stdout",
     "output_type": "stream",
     "text": [
      "root\n",
      " |-- case_id: integer (nullable = true)\n",
      " |-- case_opened_date: timestamp (nullable = true)\n",
      " |-- case_closed_date: timestamp (nullable = true)\n",
      " |-- case_due_date: timestamp (nullable = true)\n",
      " |-- case_late: boolean (nullable = true)\n",
      " |-- num_days_late: double (nullable = true)\n",
      " |-- case_closed: boolean (nullable = true)\n",
      " |-- dept_division: string (nullable = true)\n",
      " |-- service_request_type: string (nullable = true)\n",
      " |-- SLA_days: double (nullable = true)\n",
      " |-- source_id: string (nullable = true)\n",
      " |-- request_address: string (nullable = true)\n",
      " |-- council_district: string (nullable = true)\n",
      "\n"
     ]
    }
   ],
   "source": [
    "case.printSchema()"
   ]
  },
  {
   "cell_type": "markdown",
   "id": "1e2b6a02-67cc-43de-89f1-37f5b056f5eb",
   "metadata": {},
   "source": [
    "### Source"
   ]
  },
  {
   "cell_type": "code",
   "execution_count": 22,
   "id": "7cd5bdda-15eb-4787-b849-9c8b7346f71b",
   "metadata": {},
   "outputs": [
    {
     "name": "stdout",
     "output_type": "stream",
     "text": [
      "+---------+----------------+\n",
      "|source_id| source_username|\n",
      "+---------+----------------+\n",
      "|   100137|Merlene Blodgett|\n",
      "|   103582|     Carmen Cura|\n",
      "|   106463| Richard Sanchez|\n",
      "|   119403|  Betty De Hoyos|\n",
      "|   119555|  Socorro Quiara|\n",
      "+---------+----------------+\n",
      "only showing top 5 rows\n",
      "\n"
     ]
    }
   ],
   "source": [
    "source.show(5)"
   ]
  },
  {
   "cell_type": "code",
   "execution_count": 23,
   "id": "845cfd26-0417-4219-954f-016c8691cadd",
   "metadata": {},
   "outputs": [
    {
     "name": "stdout",
     "output_type": "stream",
     "text": [
      "root\n",
      " |-- source_id: string (nullable = true)\n",
      " |-- source_username: string (nullable = true)\n",
      "\n"
     ]
    }
   ],
   "source": [
    "source.printSchema()"
   ]
  },
  {
   "cell_type": "markdown",
   "id": "23b21759-5827-45fc-8807-474853806df7",
   "metadata": {},
   "source": [
    "No data type modifications needed"
   ]
  },
  {
   "cell_type": "markdown",
   "id": "b91f90c1-b281-4eda-afdb-181fa420bef9",
   "metadata": {},
   "source": [
    "### Department"
   ]
  },
  {
   "cell_type": "code",
   "execution_count": 24,
   "id": "1cb34f4b-bd31-4f24-b1f1-df368f282061",
   "metadata": {},
   "outputs": [
    {
     "name": "stdout",
     "output_type": "stream",
     "text": [
      "+--------------------+--------------------+----------------------+-------------------+\n",
      "|       dept_division|           dept_name|standardized_dept_name|dept_subject_to_SLA|\n",
      "+--------------------+--------------------+----------------------+-------------------+\n",
      "|     311 Call Center|    Customer Service|      Customer Service|                YES|\n",
      "|               Brush|Solid Waste Manag...|           Solid Waste|                YES|\n",
      "|     Clean and Green|Parks and Recreation|    Parks & Recreation|                YES|\n",
      "|Clean and Green N...|Parks and Recreation|    Parks & Recreation|                YES|\n",
      "|    Code Enforcement|Code Enforcement ...|  DSD/Code Enforcement|                YES|\n",
      "+--------------------+--------------------+----------------------+-------------------+\n",
      "only showing top 5 rows\n",
      "\n"
     ]
    }
   ],
   "source": [
    "dept.show(5)"
   ]
  },
  {
   "cell_type": "code",
   "execution_count": 25,
   "id": "8f4b1fe3-77e1-49da-a219-cc541e1194f7",
   "metadata": {},
   "outputs": [
    {
     "name": "stdout",
     "output_type": "stream",
     "text": [
      "root\n",
      " |-- dept_division: string (nullable = true)\n",
      " |-- dept_name: string (nullable = true)\n",
      " |-- standardized_dept_name: string (nullable = true)\n",
      " |-- dept_subject_to_SLA: string (nullable = true)\n",
      "\n"
     ]
    }
   ],
   "source": [
    "dept.printSchema()"
   ]
  },
  {
   "cell_type": "markdown",
   "id": "715fe3cf-e22e-4f0f-9218-97ec6871e5f3",
   "metadata": {},
   "source": [
    "Convert last column to boolean"
   ]
  },
  {
   "cell_type": "code",
   "execution_count": 26,
   "id": "829c8177-d093-4145-8906-486963eccdb7",
   "metadata": {},
   "outputs": [
    {
     "name": "stdout",
     "output_type": "stream",
     "text": [
      "+-------------------+-----+\n",
      "|dept_subject_to_SLA|count|\n",
      "+-------------------+-----+\n",
      "|                YES|   31|\n",
      "|                 NO|    8|\n",
      "+-------------------+-----+\n",
      "\n"
     ]
    }
   ],
   "source": [
    "dept.groupBy('dept_subject_to_SLA').count().show()"
   ]
  },
  {
   "cell_type": "code",
   "execution_count": 27,
   "id": "1c71d377-1352-42ed-84b1-e517f7dfc5ff",
   "metadata": {},
   "outputs": [
    {
     "name": "stdout",
     "output_type": "stream",
     "text": [
      "+-------------------+\n",
      "|dept_subject_to_SLA|\n",
      "+-------------------+\n",
      "|               true|\n",
      "|               true|\n",
      "|               true|\n",
      "|               true|\n",
      "|               true|\n",
      "+-------------------+\n",
      "only showing top 5 rows\n",
      "\n"
     ]
    }
   ],
   "source": [
    "dept = dept.withColumn(\"dept_subject_to_SLA\", expr('dept_subject_to_SLA == \"YES\"'))\n",
    "\n",
    "dept.select(\"dept_subject_to_SLA\").show(5)"
   ]
  },
  {
   "cell_type": "code",
   "execution_count": 28,
   "id": "d5d86d81-aa6a-4700-9b76-9aebf1a1b6a0",
   "metadata": {},
   "outputs": [
    {
     "name": "stdout",
     "output_type": "stream",
     "text": [
      "+-------------------+-----+\n",
      "|dept_subject_to_SLA|count|\n",
      "+-------------------+-----+\n",
      "|               true|   31|\n",
      "|              false|    8|\n",
      "+-------------------+-----+\n",
      "\n"
     ]
    }
   ],
   "source": [
    "dept.groupBy('dept_subject_to_SLA').count().show()"
   ]
  },
  {
   "cell_type": "markdown",
   "id": "7dc198ca-226e-4481-abf6-39d07e84f01c",
   "metadata": {},
   "source": [
    "---"
   ]
  },
  {
   "cell_type": "markdown",
   "id": "389a1afd-b04c-40ad-a81d-0d3e9061c028",
   "metadata": {},
   "source": [
    "## 1."
   ]
  },
  {
   "cell_type": "markdown",
   "id": "4e317cd7-fb44-4d21-9583-aaf66fa08422",
   "metadata": {},
   "source": [
    "- How old is the latest (in terms of days past SLA) currently open issue? "
   ]
  },
  {
   "cell_type": "code",
   "execution_count": 29,
   "id": "4d36ab64-bc14-4437-bcd1-eadd009e115e",
   "metadata": {},
   "outputs": [
    {
     "name": "stdout",
     "output_type": "stream",
     "text": [
      "-RECORD 0------------------------------------------------------\n",
      " case_id              | 1013225646                             \n",
      " case_opened_date     | 2017-01-01 13:48:00                    \n",
      " case_closed_date     | null                                   \n",
      " case_due_date        | 2017-01-17 08:30:00                    \n",
      " case_late            | true                                   \n",
      " num_days_late        | 348.6458333                            \n",
      " case_closed          | false                                  \n",
      " dept_division        | Code Enforcement                       \n",
      " service_request_type | No Address Posted                      \n",
      " SLA_days             | 15.77859954                            \n",
      " source_id            | svcCRMSS                               \n",
      " request_address      | 7299  SHADOW RIDGE, San Antonio, 78250 \n",
      " council_district     | 6                                      \n",
      "only showing top 1 row\n",
      "\n"
     ]
    }
   ],
   "source": [
    "case.where(case.case_closed == False).sort(case.num_days_late.desc()).show(1, vertical=True, truncate=False)"
   ]
  },
  {
   "cell_type": "code",
   "execution_count": 30,
   "id": "431eb983-bd47-4b43-9ba7-47c5d2b91634",
   "metadata": {},
   "outputs": [
    {
     "name": "stdout",
     "output_type": "stream",
     "text": [
      "+------------------+\n",
      "|max(num_days_late)|\n",
      "+------------------+\n",
      "|       348.6458333|\n",
      "+------------------+\n",
      "\n"
     ]
    }
   ],
   "source": [
    "case.where(case.case_closed == False).select(max(col('num_days_late'))).show()"
   ]
  },
  {
   "cell_type": "markdown",
   "id": "303716e4-1bd8-4c42-afba-2a9d9f923024",
   "metadata": {},
   "source": [
    "- How long has the oldest (in terms of days since opened) currently opened issue been open?"
   ]
  },
  {
   "cell_type": "code",
   "execution_count": 31,
   "id": "a1805afc-cde9-4989-b64c-4ab0f6b126f7",
   "metadata": {},
   "outputs": [
    {
     "name": "stdout",
     "output_type": "stream",
     "text": [
      "+-----------+-------------------+-------------------+--------+--------------+-------------+\n",
      "|case_closed|   case_opened_date|   case_closed_date|case_age|days_to_closed|case_lifetime|\n",
      "+-----------+-------------------+-------------------+--------+--------------+-------------+\n",
      "|       true|2018-01-01 00:42:00|2018-01-01 12:29:00|    1408|             0|            0|\n",
      "|       true|2018-01-01 00:46:00|2018-01-03 08:11:00|    1408|             2|            2|\n",
      "|       true|2018-01-01 00:48:00|2018-01-02 07:57:00|    1408|             1|            1|\n",
      "|       true|2018-01-01 01:29:00|2018-01-02 08:13:00|    1408|             1|            1|\n",
      "|       true|2018-01-01 01:34:00|2018-01-01 13:29:00|    1408|             0|            0|\n",
      "+-----------+-------------------+-------------------+--------+--------------+-------------+\n",
      "only showing top 5 rows\n",
      "\n",
      "+-----------+-------------------+----------------+--------+--------------+-------------+\n",
      "|case_closed|   case_opened_date|case_closed_date|case_age|days_to_closed|case_lifetime|\n",
      "+-----------+-------------------+----------------+--------+--------------+-------------+\n",
      "|      false|2018-01-02 09:39:00|            null|    1407|          null|         1407|\n",
      "|      false|2018-01-02 10:49:00|            null|    1407|          null|         1407|\n",
      "|      false|2018-01-02 13:45:00|            null|    1407|          null|         1407|\n",
      "|      false|2018-01-02 14:09:00|            null|    1407|          null|         1407|\n",
      "|      false|2018-01-02 14:34:00|            null|    1407|          null|         1407|\n",
      "+-----------+-------------------+----------------+--------+--------------+-------------+\n",
      "only showing top 5 rows\n",
      "\n"
     ]
    }
   ],
   "source": [
    "case = (\n",
    "    case.withColumn(\n",
    "        \"case_age\", datediff(current_timestamp(), \"case_opened_date\")\n",
    "    )\n",
    "    .withColumn(\n",
    "        \"days_to_closed\", datediff(\"case_closed_date\", \"case_opened_date\")\n",
    "    )\n",
    "    .withColumn(\n",
    "        \"case_lifetime\",\n",
    "        when(expr(\"! case_closed\"), col(\"case_age\")).otherwise(\n",
    "            col(\"days_to_closed\")\n",
    "        ),\n",
    "    )\n",
    ")\n",
    "\n",
    "case.select(\n",
    "    \"case_closed\",\n",
    "    \"case_opened_date\",\n",
    "    \"case_closed_date\",\n",
    "    \"case_age\",\n",
    "    \"days_to_closed\",\n",
    "    \"case_lifetime\",\n",
    ").where(expr(\"case_closed\")).show(5)\n",
    "\n",
    "case.select(\n",
    "    \"case_closed\",\n",
    "    \"case_opened_date\",\n",
    "    \"case_closed_date\",\n",
    "    \"case_age\",\n",
    "    \"days_to_closed\",\n",
    "    \"case_lifetime\",\n",
    ").where(expr(\"! case_closed\")).show(5)"
   ]
  },
  {
   "cell_type": "code",
   "execution_count": 32,
   "id": "7a4cc04a-6a41-404a-8805-60d26ee3cd44",
   "metadata": {},
   "outputs": [
    {
     "name": "stdout",
     "output_type": "stream",
     "text": [
      "-RECORD 0------------------------------------------------------\n",
      " case_id              | 1013225646                             \n",
      " case_opened_date     | 2017-01-01 13:48:00                    \n",
      " case_closed_date     | null                                   \n",
      " case_due_date        | 2017-01-17 08:30:00                    \n",
      " case_late            | true                                   \n",
      " num_days_late        | 348.6458333                            \n",
      " case_closed          | false                                  \n",
      " dept_division        | Code Enforcement                       \n",
      " service_request_type | No Address Posted                      \n",
      " SLA_days             | 15.77859954                            \n",
      " source_id            | svcCRMSS                               \n",
      " request_address      | 7299  SHADOW RIDGE, San Antonio, 78250 \n",
      " council_district     | 6                                      \n",
      " case_age             | 1773                                   \n",
      " days_to_closed       | null                                   \n",
      " case_lifetime        | 1773                                   \n",
      "only showing top 1 row\n",
      "\n"
     ]
    }
   ],
   "source": [
    "case.where(case.case_closed == False).sort(case.case_lifetime.desc()).show(1, vertical=True, truncate=False)"
   ]
  },
  {
   "cell_type": "code",
   "execution_count": 33,
   "id": "8eb05c97-0191-45cd-9290-a3601387b89a",
   "metadata": {},
   "outputs": [
    {
     "name": "stdout",
     "output_type": "stream",
     "text": [
      "+-------------+\n",
      "|days_past_due|\n",
      "+-------------+\n",
      "|         1757|\n",
      "|         1757|\n",
      "|         1757|\n",
      "|         1756|\n",
      "|         1754|\n",
      "+-------------+\n",
      "only showing top 5 rows\n",
      "\n"
     ]
    }
   ],
   "source": [
    "# Another way to do it:\n",
    "(\n",
    "    case.select(datediff(current_timestamp(), 'case_due_date')\n",
    "    .alias('days_past_due'))\n",
    "    .where(case.case_closed == False)\n",
    "    .sort(col('days_past_due').desc())\n",
    "    .show(5)\n",
    ")"
   ]
  },
  {
   "cell_type": "markdown",
   "id": "9b55a04a-1f07-4c26-b920-65c8e3a3170e",
   "metadata": {},
   "source": [
    "## 2."
   ]
  },
  {
   "cell_type": "markdown",
   "id": "9f0b3b4f-bb0c-462c-b7c6-b8c87b1af4f3",
   "metadata": {},
   "source": [
    "How many Stray Animal cases are there?"
   ]
  },
  {
   "cell_type": "code",
   "execution_count": 34,
   "id": "1ef66892-3d86-43da-a4bd-74463381192f",
   "metadata": {},
   "outputs": [
    {
     "data": {
      "text/plain": [
       "26760"
      ]
     },
     "execution_count": 34,
     "metadata": {},
     "output_type": "execute_result"
    }
   ],
   "source": [
    "case.where(expr('service_request_type == \"Stray Animal\"')).count()"
   ]
  },
  {
   "cell_type": "code",
   "execution_count": 35,
   "id": "580a0acc-cb04-4dfa-bfe4-22165028125f",
   "metadata": {},
   "outputs": [
    {
     "data": {
      "text/plain": [
       "26760"
      ]
     },
     "execution_count": 35,
     "metadata": {},
     "output_type": "execute_result"
    }
   ],
   "source": [
    "case.where(col('service_request_type') == 'Stray Animal').count()"
   ]
  },
  {
   "cell_type": "code",
   "execution_count": 36,
   "id": "8fc8be04-61e5-443c-aad9-4584841444cf",
   "metadata": {},
   "outputs": [
    {
     "data": {
      "text/plain": [
       "26745"
      ]
     },
     "execution_count": 36,
     "metadata": {},
     "output_type": "execute_result"
    }
   ],
   "source": [
    "case.where(col('case_closed') == True).where(col('service_request_type') == 'Stray Animal').count()"
   ]
  },
  {
   "cell_type": "code",
   "execution_count": 37,
   "id": "fa2f760b-e11f-460a-8e74-4f9855ec3c65",
   "metadata": {},
   "outputs": [
    {
     "data": {
      "text/plain": [
       "15"
      ]
     },
     "execution_count": 37,
     "metadata": {},
     "output_type": "execute_result"
    }
   ],
   "source": [
    "case.where(col('case_closed') == False).where(col('service_request_type') == 'Stray Animal').count()"
   ]
  },
  {
   "cell_type": "markdown",
   "id": "325d154c-a6f9-4c7f-b250-205efeb310f8",
   "metadata": {},
   "source": [
    "## 3."
   ]
  },
  {
   "cell_type": "markdown",
   "id": "173ca2c8-4568-4605-a0a8-d2789bd33886",
   "metadata": {},
   "source": [
    "How many service requests that are assigned to the Field Operations department (`dept_division`) are not classified as \"Officer Standby\" request type (`service_request_type`)?"
   ]
  },
  {
   "cell_type": "code",
   "execution_count": 38,
   "id": "1e1d4867-1d6d-48d4-8f4e-c3ecb2e0d017",
   "metadata": {},
   "outputs": [
    {
     "data": {
      "text/plain": [
       "113902"
      ]
     },
     "execution_count": 38,
     "metadata": {},
     "output_type": "execute_result"
    }
   ],
   "source": [
    "(\n",
    "    case.filter(case.dept_division == 'Field Operations')\n",
    "    .filter(case.service_request_type != 'Officer Standby')\n",
    "    .count()\n",
    ")"
   ]
  },
  {
   "cell_type": "markdown",
   "id": "7f2628f2-dd3d-4a40-aadd-d89562a7a011",
   "metadata": {},
   "source": [
    "## 4."
   ]
  },
  {
   "cell_type": "markdown",
   "id": "aff5f935-4732-498b-a104-f3e416958258",
   "metadata": {},
   "source": [
    "Convert the `council_district` column to a string column."
   ]
  },
  {
   "cell_type": "markdown",
   "id": "be02d5b5-7f10-435e-8c8a-7290b009302d",
   "metadata": {},
   "source": [
    "Already done in prep above"
   ]
  },
  {
   "cell_type": "markdown",
   "id": "aaea105a-4e83-4750-bdd6-199dc0b88ff1",
   "metadata": {},
   "source": [
    "## 5."
   ]
  },
  {
   "cell_type": "markdown",
   "id": "5d7caa12-e283-4ec8-ba11-153e1cfe3d62",
   "metadata": {},
   "source": [
    "Extract the year from the `case_closed_date` column."
   ]
  },
  {
   "cell_type": "code",
   "execution_count": 39,
   "id": "e5ede01f-4368-4781-a66e-79e14e8dbc7f",
   "metadata": {},
   "outputs": [
    {
     "name": "stdout",
     "output_type": "stream",
     "text": [
      "+-------------------+----------------+\n",
      "|   case_closed_date|case_closed_year|\n",
      "+-------------------+----------------+\n",
      "|2018-01-01 12:29:00|            2018|\n",
      "|2018-01-03 08:11:00|            2018|\n",
      "|2018-01-02 07:57:00|            2018|\n",
      "|2018-01-02 08:13:00|            2018|\n",
      "|2018-01-01 13:29:00|            2018|\n",
      "+-------------------+----------------+\n",
      "only showing top 5 rows\n",
      "\n"
     ]
    }
   ],
   "source": [
    "case.select('case_closed_date', year('case_closed_date').alias('case_closed_year')).show(5)"
   ]
  },
  {
   "cell_type": "markdown",
   "id": "0728e890-a104-4c65-9d00-55501b98586a",
   "metadata": {},
   "source": [
    "## 6."
   ]
  },
  {
   "cell_type": "markdown",
   "id": "b20292cf-a14f-4f00-9bd7-454aae9802e6",
   "metadata": {},
   "source": [
    "Convert `num_days_late` from days to hours in new columns `num_hours_late`."
   ]
  },
  {
   "cell_type": "code",
   "execution_count": 40,
   "id": "9e1e1281-26d1-471d-aed5-f777bee1804f",
   "metadata": {},
   "outputs": [
    {
     "name": "stdout",
     "output_type": "stream",
     "text": [
      "+-------------------+-------------------+\n",
      "|      num_days_late|     num_hours_late|\n",
      "+-------------------+-------------------+\n",
      "| -998.5087616000001|     -23964.2102784|\n",
      "|-2.0126041669999997|-48.302500007999996|\n",
      "|       -3.022337963|      -72.536111112|\n",
      "|       -15.01148148|      -360.27555552|\n",
      "|0.37216435200000003|  8.931944448000001|\n",
      "|       -29.74398148| -713.8555555199999|\n",
      "|       -14.70673611|      -352.96166664|\n",
      "|       -14.70662037|      -352.95888888|\n",
      "|       -14.70662037|      -352.95888888|\n",
      "|       -14.70649306|      -352.95583344|\n",
      "|       -14.70649306|      -352.95583344|\n",
      "|       -14.70636574|      -352.95277776|\n",
      "|          -14.70625|-352.95000000000005|\n",
      "|       -14.70636574|      -352.95277776|\n",
      "|       -14.70623843|-352.94972232000003|\n",
      "|-14.705891199999998|-352.94138879999997|\n",
      "|       -14.70600694|      -352.94416656|\n",
      "|       -14.70576389|      -352.93833336|\n",
      "|       -14.70576389|      -352.93833336|\n",
      "|       -14.70564815|       -352.9355556|\n",
      "+-------------------+-------------------+\n",
      "only showing top 20 rows\n",
      "\n"
     ]
    }
   ],
   "source": [
    "(\n",
    "    case.withColumn('num_hours_late', case.num_days_late * 24)\n",
    "    .select('num_days_late', 'num_hours_late')\n",
    "    .show()\n",
    ")"
   ]
  },
  {
   "cell_type": "markdown",
   "id": "6051cdfd-06cc-4dfb-af31-fd640e135489",
   "metadata": {},
   "source": [
    "## 7."
   ]
  },
  {
   "cell_type": "markdown",
   "id": "3e49678c-7d63-477f-94e3-9b67563b0da4",
   "metadata": {},
   "source": [
    "Join the case data with the source and department data."
   ]
  },
  {
   "cell_type": "code",
   "execution_count": 41,
   "id": "17e2a63a-cc5c-4e63-95a0-d93ea549e4c7",
   "metadata": {},
   "outputs": [],
   "source": [
    "df = case.join(dept, 'dept_division', 'left').join(source, 'source_id', 'left')"
   ]
  },
  {
   "cell_type": "code",
   "execution_count": 42,
   "id": "581e2058-cfd9-43fb-a71c-9c23e2d65bf2",
   "metadata": {},
   "outputs": [
    {
     "name": "stdout",
     "output_type": "stream",
     "text": [
      "-RECORD 0------------------------------------------------------\n",
      " source_id              | svcCRMLS                             \n",
      " dept_division          | Field Operations                     \n",
      " case_id                | 1014127332                           \n",
      " case_opened_date       | 2018-01-01 00:42:00                  \n",
      " case_closed_date       | 2018-01-01 12:29:00                  \n",
      " case_due_date          | 2020-09-26 00:42:00                  \n",
      " case_late              | false                                \n",
      " num_days_late          | -998.5087616000001                   \n",
      " case_closed            | true                                 \n",
      " service_request_type   | Stray Animal                         \n",
      " SLA_days               | 999.0                                \n",
      " request_address        | 2315  EL PASO ST, San Antonio, 78207 \n",
      " council_district       | 5                                    \n",
      " case_age               | 1408                                 \n",
      " days_to_closed         | 0                                    \n",
      " case_lifetime          | 0                                    \n",
      " dept_name              | Animal Care Services                 \n",
      " standardized_dept_name | Animal Care Services                 \n",
      " dept_subject_to_SLA    | true                                 \n",
      " source_username        | svcCRMLS                             \n",
      "-RECORD 1------------------------------------------------------\n",
      " source_id              | svcCRMSS                             \n",
      " dept_division          | Storm Water                          \n",
      " case_id                | 1014127333                           \n",
      " case_opened_date       | 2018-01-01 00:46:00                  \n",
      " case_closed_date       | 2018-01-03 08:11:00                  \n",
      " case_due_date          | 2018-01-05 08:30:00                  \n",
      " case_late              | false                                \n",
      " num_days_late          | -2.0126041669999997                  \n",
      " case_closed            | true                                 \n",
      " service_request_type   | Removal Of Obstruction               \n",
      " SLA_days               | 4.322222222                          \n",
      " request_address        | 2215  GOLIAD RD, San Antonio, 78223  \n",
      " council_district       | 3                                    \n",
      " case_age               | 1408                                 \n",
      " days_to_closed         | 2                                    \n",
      " case_lifetime          | 2                                    \n",
      " dept_name              | Trans & Cap Improvements             \n",
      " standardized_dept_name | Trans & Cap Improvements             \n",
      " dept_subject_to_SLA    | true                                 \n",
      " source_username        | svcCRMSS                             \n",
      "only showing top 2 rows\n",
      "\n"
     ]
    }
   ],
   "source": [
    "df.show(2, vertical=True, truncate=False)"
   ]
  },
  {
   "cell_type": "markdown",
   "id": "f825dae0-104b-402c-a42e-707b62610913",
   "metadata": {},
   "source": [
    "## 8."
   ]
  },
  {
   "cell_type": "markdown",
   "id": "c9004464-db1c-4ad4-9d5a-4cb407ca9ce6",
   "metadata": {},
   "source": [
    "Are there any cases that do not have a request source?"
   ]
  },
  {
   "cell_type": "code",
   "execution_count": 43,
   "id": "e79d0cf3-6d49-4770-b031-565d622c9c9e",
   "metadata": {},
   "outputs": [
    {
     "name": "stdout",
     "output_type": "stream",
     "text": [
      "+------------+\n",
      "|sum(is_null)|\n",
      "+------------+\n",
      "|           0|\n",
      "+------------+\n",
      "\n"
     ]
    }
   ],
   "source": [
    "(\n",
    "    df.select(df.source_id.isNull().cast('int').alias('is_null'))\n",
    "    .agg(sum('is_null'))\n",
    "    .show()\n",
    ")"
   ]
  },
  {
   "cell_type": "code",
   "execution_count": 44,
   "id": "4416bc50-415b-4df2-93d7-2eefc6df3b1e",
   "metadata": {},
   "outputs": [
    {
     "name": "stdout",
     "output_type": "stream",
     "text": [
      "(0 rows)\n",
      "\n"
     ]
    }
   ],
   "source": [
    "df.filter(col('source_id').isNull()).show(vertical=True)"
   ]
  },
  {
   "cell_type": "markdown",
   "id": "bf4aa265-8551-4529-985f-b79a684484f7",
   "metadata": {},
   "source": [
    "## 9."
   ]
  },
  {
   "cell_type": "markdown",
   "id": "6c11cf59-8937-46f9-9b35-834446ba491e",
   "metadata": {},
   "source": [
    "What are the top 10 service request types in terms of number of requests?"
   ]
  },
  {
   "cell_type": "code",
   "execution_count": 45,
   "id": "cb25f687-09da-47cc-b7b8-fdf22a8786a9",
   "metadata": {},
   "outputs": [
    {
     "name": "stdout",
     "output_type": "stream",
     "text": [
      "+--------------------------------+-----+\n",
      "|service_request_type            |count|\n",
      "+--------------------------------+-----+\n",
      "|No Pickup                       |89210|\n",
      "|Overgrown Yard/Trash            |66403|\n",
      "|Bandit Signs                    |32968|\n",
      "|Damaged Cart                    |31163|\n",
      "|Front Or Side Yard Parking      |28920|\n",
      "|Stray Animal                    |27361|\n",
      "|Aggressive Animal(Non-Critical) |25492|\n",
      "|Cart Exchange Request           |22608|\n",
      "|Junk Vehicle On Private Property|21649|\n",
      "|Pot Hole Repair                 |20827|\n",
      "+--------------------------------+-----+\n",
      "only showing top 10 rows\n",
      "\n"
     ]
    }
   ],
   "source": [
    "(\n",
    "    df.groupby('service_request_type')\n",
    "    .count()\n",
    "    .sort(col('count').desc())\n",
    "    .show(10, truncate=False)\n",
    ")"
   ]
  },
  {
   "cell_type": "markdown",
   "id": "da6676ff-9312-40af-b5d9-dcb7023c379d",
   "metadata": {},
   "source": [
    "## 10."
   ]
  },
  {
   "cell_type": "markdown",
   "id": "65c41fa4-5538-47e1-aace-0884c4aba5ee",
   "metadata": {},
   "source": [
    "What are the top 10 service request types in terms of average days late?"
   ]
  },
  {
   "cell_type": "code",
   "execution_count": 46,
   "id": "20f51e51-9130-4955-a093-fb7f6cf33b83",
   "metadata": {},
   "outputs": [
    {
     "name": "stdout",
     "output_type": "stream",
     "text": [
      "+--------------------------------------+------------------+-------+\n",
      "|service_request_type                  |n_days_late       |n_cases|\n",
      "+--------------------------------------+------------------+-------+\n",
      "|Zoning: Recycle Yard                  |210.89201994318182|132    |\n",
      "|Zoning: Junk Yards                    |200.20517608494276|262    |\n",
      "|Structure/Housing Maintenance         |190.20707698509804|51     |\n",
      "|Donation Container Enforcement        |171.09115313942618|122    |\n",
      "|Storage of Used Mattress              |163.96812829714287|7      |\n",
      "|Labeling for Used Mattress            |162.43032902285717|7      |\n",
      "|Record Keeping of Used Mattresses     |153.99724039428568|7      |\n",
      "|Signage Requied for Sale of Used Mattr|151.63868055333333|12     |\n",
      "|Traffic Signal Graffiti               |137.64583330000002|4      |\n",
      "|License Requied Used Mattress Sales   |128.79828704142858|7      |\n",
      "+--------------------------------------+------------------+-------+\n",
      "only showing top 10 rows\n",
      "\n"
     ]
    }
   ],
   "source": [
    "(\n",
    "    df.where('case_late')\n",
    "    .groupBy('service_request_type')\n",
    "    .agg(mean('num_days_late').alias('n_days_late'), count('*').alias('n_cases'))\n",
    "    .sort(desc('n_days_late'))\n",
    "    .show(10, truncate=False)\n",
    ")"
   ]
  },
  {
   "cell_type": "markdown",
   "id": "5f6ae322-9e23-487c-9f47-e484b8b5e138",
   "metadata": {},
   "source": [
    "## 11."
   ]
  },
  {
   "cell_type": "markdown",
   "id": "f131a4fe-3508-444c-90c4-74f81f8a4739",
   "metadata": {},
   "source": [
    "Does number of days late depend on department?"
   ]
  },
  {
   "cell_type": "code",
   "execution_count": 47,
   "id": "81230220-a413-4982-85f1-4bec17e80381",
   "metadata": {},
   "outputs": [
    {
     "name": "stdout",
     "output_type": "stream",
     "text": [
      "+-------------------------+---------+------------+\n",
      "|dept_name                |days_late|n_cases_late|\n",
      "+-------------------------+---------+------------+\n",
      "|null                     |210.9    |132         |\n",
      "|Customer Service         |88.2     |2035        |\n",
      "|Development Services     |67.2     |840         |\n",
      "|Code Enforcement Services|48.1     |25467       |\n",
      "|Animal Care Services     |23.4     |23751       |\n",
      "|Parks and Recreation     |22.4     |3810        |\n",
      "|Trans & Cap Improvements |10.7     |5529        |\n",
      "|Solid Waste Management   |7.1      |33729       |\n",
      "|Metro Health             |6.5      |854         |\n",
      "+-------------------------+---------+------------+\n",
      "\n"
     ]
    }
   ],
   "source": [
    "(\n",
    "    df.filter('case_late')\n",
    "    .groupby('dept_name')\n",
    "    .agg(mean('num_days_late').alias('days_late'), count('num_days_late').alias('n_cases_late'))\n",
    "    .sort('days_late')\n",
    "    .withColumn('days_late', round(col('days_late'), 1))\n",
    "    .sort(col('days_late').desc())\n",
    "    .show(truncate=False)\n",
    ")"
   ]
  },
  {
   "cell_type": "markdown",
   "id": "e601a2f1-3733-4653-8fec-d3f8f5dc64e0",
   "metadata": {},
   "source": [
    "## 12."
   ]
  },
  {
   "cell_type": "markdown",
   "id": "a7eda3fd-f587-4e23-923d-4b3112f3b2e3",
   "metadata": {},
   "source": [
    "How do number of days late depend on department and request type?"
   ]
  },
  {
   "cell_type": "code",
   "execution_count": 48,
   "id": "d6cee3a1-8953-414c-88d8-b74ec126b5c8",
   "metadata": {},
   "outputs": [
    {
     "name": "stdout",
     "output_type": "stream",
     "text": [
      "+----------------------+--------------------------------------------+---------+-------+\n",
      "|standardized_dept_name|service_request_type                        |days_late|n_cases|\n",
      "+----------------------+--------------------------------------------+---------+-------+\n",
      "|DSD/Code Enforcement  |Zoning: Recycle Yard                        |273.6    |75     |\n",
      "|DSD/Code Enforcement  |Zoning: Junk Yards                          |251.9    |146    |\n",
      "|DSD/Code Enforcement  |Donation Container Enforcement              |201.7    |82     |\n",
      "|DSD/Code Enforcement  |Structure/Housing Maintenance               |182.4    |30     |\n",
      "|DSD/Code Enforcement  |Graffiti: Private Property (Corridors)      |175.1    |3      |\n",
      "|DSD/Code Enforcement  |Storage of Used Mattress                    |164.0    |7      |\n",
      "|DSD/Code Enforcement  |Labeling for Used Mattress                  |162.4    |7      |\n",
      "|DSD/Code Enforcement  |Record Keeping of Used Mattresses           |154.0    |7      |\n",
      "|DSD/Code Enforcement  |Signage Requied for Sale of Used Mattr      |151.6    |12     |\n",
      "|DSD/Code Enforcement  |License Requied Used Mattress Sales         |128.8    |7      |\n",
      "|DSD/Code Enforcement  |Vendors                                     |127.3    |103    |\n",
      "|DSD/Code Enforcement  |Curbstoning                                 |121.8    |100    |\n",
      "|DSD/Code Enforcement  |DSDB Ordered/Hold Harmless/Regular-ALL      |119.8    |40     |\n",
      "|DSD/Code Enforcement  |CPS Energy Wood Poles                       |115.2    |1      |\n",
      "|DSD/Code Enforcement  |Used Mattress Inspection                    |108.1    |16     |\n",
      "|DSD/Code Enforcement  |DSDB Ordered/Hold Harmless/Regular: Main    |106.4    |86     |\n",
      "|DSD/Code Enforcement  |DSDB Ordered/Hold Harmless/Regular: ASEC    |104.7    |41     |\n",
      "|DSD/Code Enforcement  |Zoning: Mobile Homes                        |103.8    |5      |\n",
      "|DSD/Code Enforcement  |Certificates of Occupancy                   |103.3    |91     |\n",
      "|DSD/Code Enforcement  |Zoning: Setbacks                            |98.4     |80     |\n",
      "|DSD/Code Enforcement  |Wasting Water (Leaks)                       |91.3     |4      |\n",
      "|DSD/Code Enforcement  |Street Light New Development                |91.1     |16     |\n",
      "|DSD/Code Enforcement  |Zoning: District Requirement                |89.3     |241    |\n",
      "|DSD/Code Enforcement  |Permits Building                            |84.4     |1413   |\n",
      "|DSD/Code Enforcement  |Vacant Lot: Over 12\"\"                       |82.1     |1      |\n",
      "|Customer Service      |Complaint                                   |81.5     |939    |\n",
      "|DSD/Code Enforcement  |Low Hanging Limbs on Streets/Sidewalk       |78.6     |19     |\n",
      "|Parks & Recreation    |Major Park Improvement Install              |75.8     |17     |\n",
      "|DSD/Code Enforcement  |Zoning: Outside Storage                     |74.2     |16     |\n",
      "|DSD/Code Enforcement  |Dart Preliminary Inspection                 |74.0     |8      |\n",
      "|DSD/Code Enforcement  |Dumpsters: Maintenance/Sanitation           |73.2     |38     |\n",
      "|DSD/Code Enforcement  |Used/Scrap Tire Facility Periodic Inspection|72.9     |8      |\n",
      "|DSD/Code Enforcement  |\"Vacant Lot-State (12\"\")\"                   |72.1     |2      |\n",
      "|DSD/Code Enforcement  |No Address Posted                           |72.0     |754    |\n",
      "|Animal Care Services  |Animal Permits Request                      |72.0     |1218   |\n",
      "|Animal Care Services  |Public Nuisance(Own Animal)                 |71.2     |976    |\n",
      "|DSD/Code Enforcement  |Zoning Business in Resident Area            |70.9     |90     |\n",
      "|DSD/Code Enforcement  |Water No Services                           |69.5     |11     |\n",
      "|DSD/Code Enforcement  |Discharge Into Pub. Waters/St               |69.3     |1      |\n",
      "|DSD/Code Enforcement  |Zoning: Multi-Family In Single              |67.8     |42     |\n",
      "+----------------------+--------------------------------------------+---------+-------+\n",
      "only showing top 40 rows\n",
      "\n"
     ]
    }
   ],
   "source": [
    "(\n",
    "    df.filter(\"case_closed\")\n",
    "    .filter(\"case_late\")\n",
    "    .groupby(\"standardized_dept_name\", \"service_request_type\")\n",
    "    .agg(avg(\"num_days_late\").alias(\"days_late\"), count(\"*\").alias(\"n_cases\"))\n",
    "    .withColumn(\"days_late\", round(col(\"days_late\"), 1))\n",
    "    .where(col('days_late') > 0)\n",
    "    .sort(desc(\"days_late\"))\n",
    "    .show(40, truncate=False)\n",
    ")"
   ]
  },
  {
   "cell_type": "markdown",
   "id": "79ec3313-97fa-475d-9a3c-5b379b0a2e06",
   "metadata": {},
   "source": [
    "---"
   ]
  },
  {
   "cell_type": "markdown",
   "id": "825a809e-fc17-4cb1-9aa9-d346f20722db",
   "metadata": {},
   "source": [
    "You might have noticed that the latest date in the dataset is fairly far off from the present day. To account for this, replace any occurances of the current time with the maximum date from the dataset."
   ]
  }
 ],
 "metadata": {
  "kernelspec": {
   "display_name": "Python 3",
   "language": "python",
   "name": "python3"
  },
  "language_info": {
   "codemirror_mode": {
    "name": "ipython",
    "version": 3
   },
   "file_extension": ".py",
   "mimetype": "text/x-python",
   "name": "python",
   "nbconvert_exporter": "python",
   "pygments_lexer": "ipython3",
   "version": "3.8.8"
  }
 },
 "nbformat": 4,
 "nbformat_minor": 5
}
