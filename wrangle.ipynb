{
 "cells": [
  {
   "cell_type": "markdown",
   "id": "20ec63e7-4f32-4722-bd00-beede1c908f5",
   "metadata": {},
   "source": [
    "# Spark Wrangle Exercises"
   ]
  },
  {
   "cell_type": "markdown",
   "id": "5c383343-85e2-467e-8c44-4c06ae771351",
   "metadata": {},
   "source": [
    "This exercises uses the `case.csv`, `dept.csv` and `source.csv` files from the san antonio 311 call dataset."
   ]
  },
  {
   "cell_type": "markdown",
   "id": "aa27a130-8031-4468-bb49-3cb06ef310c3",
   "metadata": {},
   "source": [
    "## 1."
   ]
  },
  {
   "cell_type": "markdown",
   "id": "065497ed-79ed-47c0-86ae-eda62992fa7a",
   "metadata": {},
   "source": [
    "Read the `case`, `department`, and `source` data into their own spark dataframes."
   ]
  },
  {
   "cell_type": "markdown",
   "id": "c56fdf54-0010-4ca0-8baf-f3c44d52f8d0",
   "metadata": {},
   "source": [
    "## 2."
   ]
  },
  {
   "cell_type": "markdown",
   "id": "ec3743ce-5a6f-4fea-a655-02de58c723f1",
   "metadata": {},
   "source": [
    "Let's see how writing to the local disk works in spark:\n",
    "- Write the code necessary to store the source data in both csv and json format, store these as `sources_csv` and `sources_json`\n",
    "- Inspect your folder structure. What do you notice?"
   ]
  },
  {
   "cell_type": "markdown",
   "id": "d765c0ae-03fd-4289-9364-f4bb856eb155",
   "metadata": {},
   "source": [
    "## 3."
   ]
  },
  {
   "cell_type": "markdown",
   "id": "504dab9e-bdc5-4724-8620-d09ee9621002",
   "metadata": {},
   "source": [
    "Inspect the data in your dataframes. Are the data types appropriate? Write the code necessary to cast the values to the appropriate types."
   ]
  },
  {
   "cell_type": "markdown",
   "id": "7dc198ca-226e-4481-abf6-39d07e84f01c",
   "metadata": {},
   "source": [
    "---"
   ]
  },
  {
   "cell_type": "markdown",
   "id": "389a1afd-b04c-40ad-a81d-0d3e9061c028",
   "metadata": {},
   "source": [
    "## 1."
   ]
  },
  {
   "cell_type": "markdown",
   "id": "143cc16f-cf34-4a5f-a686-9717a915399f",
   "metadata": {},
   "source": [
    "- How old is the latest (in terms of days past SLA) currently open issue? \n",
    "- How long has the oldest (in terms of days since opened) currently opened issue been open?"
   ]
  },
  {
   "cell_type": "markdown",
   "id": "9b55a04a-1f07-4c26-b920-65c8e3a3170e",
   "metadata": {},
   "source": [
    "## 2."
   ]
  },
  {
   "cell_type": "markdown",
   "id": "9f0b3b4f-bb0c-462c-b7c6-b8c87b1af4f3",
   "metadata": {},
   "source": [
    "How many Stray Animal cases are there?"
   ]
  },
  {
   "cell_type": "markdown",
   "id": "325d154c-a6f9-4c7f-b250-205efeb310f8",
   "metadata": {},
   "source": [
    "## 3."
   ]
  },
  {
   "cell_type": "markdown",
   "id": "173ca2c8-4568-4605-a0a8-d2789bd33886",
   "metadata": {},
   "source": [
    "How many service requests that are assigned to the Field Operations department (`dept_division`) are not classified as \"Officer Standby\" request type (`service_request_type`)?"
   ]
  },
  {
   "cell_type": "markdown",
   "id": "7f2628f2-dd3d-4a40-aadd-d89562a7a011",
   "metadata": {},
   "source": [
    "## 4."
   ]
  },
  {
   "cell_type": "markdown",
   "id": "aff5f935-4732-498b-a104-f3e416958258",
   "metadata": {},
   "source": [
    "Convert the `council_district` column to a string column."
   ]
  },
  {
   "cell_type": "markdown",
   "id": "aaea105a-4e83-4750-bdd6-199dc0b88ff1",
   "metadata": {},
   "source": [
    "## 5."
   ]
  },
  {
   "cell_type": "markdown",
   "id": "5d7caa12-e283-4ec8-ba11-153e1cfe3d62",
   "metadata": {},
   "source": [
    "Extract the year from the `case_closed_date` column."
   ]
  },
  {
   "cell_type": "markdown",
   "id": "0728e890-a104-4c65-9d00-55501b98586a",
   "metadata": {},
   "source": [
    "## 6."
   ]
  },
  {
   "cell_type": "markdown",
   "id": "b20292cf-a14f-4f00-9bd7-454aae9802e6",
   "metadata": {},
   "source": [
    "Convert `num_days_late` from days to hours in new columns `num_hours_late`."
   ]
  },
  {
   "cell_type": "markdown",
   "id": "6051cdfd-06cc-4dfb-af31-fd640e135489",
   "metadata": {},
   "source": [
    "## 7."
   ]
  },
  {
   "cell_type": "markdown",
   "id": "3e49678c-7d63-477f-94e3-9b67563b0da4",
   "metadata": {},
   "source": [
    "Join the case data with the source and department data."
   ]
  },
  {
   "cell_type": "markdown",
   "id": "f825dae0-104b-402c-a42e-707b62610913",
   "metadata": {},
   "source": [
    "## 8."
   ]
  },
  {
   "cell_type": "markdown",
   "id": "c9004464-db1c-4ad4-9d5a-4cb407ca9ce6",
   "metadata": {},
   "source": [
    "Are there any cases that do not have a request source?"
   ]
  },
  {
   "cell_type": "markdown",
   "id": "bf4aa265-8551-4529-985f-b79a684484f7",
   "metadata": {},
   "source": [
    "## 9."
   ]
  },
  {
   "cell_type": "markdown",
   "id": "6c11cf59-8937-46f9-9b35-834446ba491e",
   "metadata": {},
   "source": [
    "What are the top 10 service request types in terms of number of requests?"
   ]
  },
  {
   "cell_type": "markdown",
   "id": "da6676ff-9312-40af-b5d9-dcb7023c379d",
   "metadata": {},
   "source": [
    "## 10."
   ]
  },
  {
   "cell_type": "markdown",
   "id": "65c41fa4-5538-47e1-aace-0884c4aba5ee",
   "metadata": {},
   "source": [
    "What are the top 10 service request types in terms of average days late?"
   ]
  },
  {
   "cell_type": "markdown",
   "id": "5f6ae322-9e23-487c-9f47-e484b8b5e138",
   "metadata": {},
   "source": [
    "## 11."
   ]
  },
  {
   "cell_type": "markdown",
   "id": "f131a4fe-3508-444c-90c4-74f81f8a4739",
   "metadata": {},
   "source": [
    "Does number of days late depend on department?"
   ]
  },
  {
   "cell_type": "markdown",
   "id": "e601a2f1-3733-4653-8fec-d3f8f5dc64e0",
   "metadata": {},
   "source": [
    "## 12."
   ]
  },
  {
   "cell_type": "markdown",
   "id": "a7eda3fd-f587-4e23-923d-4b3112f3b2e3",
   "metadata": {},
   "source": [
    "How do number of days late depend on department and request type?"
   ]
  },
  {
   "cell_type": "markdown",
   "id": "79ec3313-97fa-475d-9a3c-5b379b0a2e06",
   "metadata": {},
   "source": [
    "---"
   ]
  },
  {
   "cell_type": "markdown",
   "id": "825a809e-fc17-4cb1-9aa9-d346f20722db",
   "metadata": {},
   "source": [
    "You might have noticed that the latest date in the dataset is fairly far off from the present day. To account for this, replace any occurances of the current time with the maximum date from the dataset."
   ]
  }
 ],
 "metadata": {
  "kernelspec": {
   "display_name": "Python 3",
   "language": "python",
   "name": "python3"
  },
  "language_info": {
   "codemirror_mode": {
    "name": "ipython",
    "version": 3
   },
   "file_extension": ".py",
   "mimetype": "text/x-python",
   "name": "python",
   "nbconvert_exporter": "python",
   "pygments_lexer": "ipython3",
   "version": "3.8.8"
  }
 },
 "nbformat": 4,
 "nbformat_minor": 5
}
