{
 "cells": [
  {
   "cell_type": "markdown",
   "id": "e2b94e09-6afb-4e92-9ec8-678eb2450718",
   "metadata": {},
   "source": [
    "---\n",
    "# Spark API Mini Exercises\n",
    "---"
   ]
  },
  {
   "cell_type": "markdown",
   "id": "6e351a50-1e82-4d5e-bfb1-86732e6a0663",
   "metadata": {},
   "source": [
    "Copy the code below to create a pandas dataframe with 20 rows and 3 columns:"
   ]
  },
  {
   "cell_type": "code",
   "execution_count": 1,
   "id": "aac58a27-79ca-4f6c-8f88-5acb2fef88aa",
   "metadata": {},
   "outputs": [],
   "source": [
    "import pandas as pd\n",
    "import numpy as np\n",
    "\n",
    "np.random.seed(13)\n",
    "\n",
    "pandas_dataframe = pd.DataFrame({\n",
    "    \"n\": np.random.randn(20),\n",
    "    \"group\": np.random.choice(list(\"xyz\"), 20),\n",
    "    \"abool\": np.random.choice([True, False], 20),\n",
    "})"
   ]
  },
  {
   "cell_type": "markdown",
   "id": "5f7edcc2-a189-41a3-a815-6f6567e9b26f",
   "metadata": {},
   "source": [
    "## 1."
   ]
  },
  {
   "cell_type": "markdown",
   "id": "5fb35dda-e4d5-471c-b3f5-3b09b875db3c",
   "metadata": {},
   "source": [
    "Spark Dataframe Basics\n",
    "- Use the starter code above to create a pandas dataframe."
   ]
  },
  {
   "cell_type": "code",
   "execution_count": 2,
   "id": "90bab811-5d9e-43b5-b02d-65072e703f5e",
   "metadata": {},
   "outputs": [
    {
     "data": {
      "text/html": [
       "<div>\n",
       "<style scoped>\n",
       "    .dataframe tbody tr th:only-of-type {\n",
       "        vertical-align: middle;\n",
       "    }\n",
       "\n",
       "    .dataframe tbody tr th {\n",
       "        vertical-align: top;\n",
       "    }\n",
       "\n",
       "    .dataframe thead th {\n",
       "        text-align: right;\n",
       "    }\n",
       "</style>\n",
       "<table border=\"1\" class=\"dataframe\">\n",
       "  <thead>\n",
       "    <tr style=\"text-align: right;\">\n",
       "      <th></th>\n",
       "      <th>n</th>\n",
       "      <th>group</th>\n",
       "      <th>abool</th>\n",
       "    </tr>\n",
       "  </thead>\n",
       "  <tbody>\n",
       "    <tr>\n",
       "      <th>0</th>\n",
       "      <td>-0.712391</td>\n",
       "      <td>z</td>\n",
       "      <td>False</td>\n",
       "    </tr>\n",
       "    <tr>\n",
       "      <th>1</th>\n",
       "      <td>0.753766</td>\n",
       "      <td>x</td>\n",
       "      <td>False</td>\n",
       "    </tr>\n",
       "    <tr>\n",
       "      <th>2</th>\n",
       "      <td>-0.044503</td>\n",
       "      <td>z</td>\n",
       "      <td>False</td>\n",
       "    </tr>\n",
       "    <tr>\n",
       "      <th>3</th>\n",
       "      <td>0.451812</td>\n",
       "      <td>y</td>\n",
       "      <td>False</td>\n",
       "    </tr>\n",
       "    <tr>\n",
       "      <th>4</th>\n",
       "      <td>1.345102</td>\n",
       "      <td>z</td>\n",
       "      <td>False</td>\n",
       "    </tr>\n",
       "  </tbody>\n",
       "</table>\n",
       "</div>"
      ],
      "text/plain": [
       "          n group  abool\n",
       "0 -0.712391     z  False\n",
       "1  0.753766     x  False\n",
       "2 -0.044503     z  False\n",
       "3  0.451812     y  False\n",
       "4  1.345102     z  False"
      ]
     },
     "execution_count": 2,
     "metadata": {},
     "output_type": "execute_result"
    }
   ],
   "source": [
    "pandas_dataframe.head()"
   ]
  },
  {
   "cell_type": "markdown",
   "id": "1f2e608d-5a6f-4513-a8dc-58631b016a8f",
   "metadata": {},
   "source": [
    "- Convert the pandas dataframe to a spark dataframe. From this point forward, do all of your work with the spark dataframe, not the pandas dataframe."
   ]
  },
  {
   "cell_type": "code",
   "execution_count": 3,
   "id": "de008057-4911-4896-885c-21ee044f5953",
   "metadata": {},
   "outputs": [],
   "source": [
    "import pyspark\n",
    "spark = pyspark.sql.SparkSession.builder.getOrCreate()"
   ]
  },
  {
   "cell_type": "code",
   "execution_count": 4,
   "id": "3c50e294-787f-4b0a-a410-7b1132cc7d2b",
   "metadata": {},
   "outputs": [],
   "source": [
    "df = spark.createDataFrame(pandas_dataframe)"
   ]
  },
  {
   "cell_type": "markdown",
   "id": "5efd1b5d-af65-41e9-9336-194e31d699b9",
   "metadata": {},
   "source": [
    "- Show the first 3 rows of the dataframe."
   ]
  },
  {
   "cell_type": "code",
   "execution_count": 5,
   "id": "7274cfe8-9ad8-49f4-a6e4-df705be1d68c",
   "metadata": {},
   "outputs": [
    {
     "data": {
      "text/html": [
       "<div>\n",
       "<style scoped>\n",
       "    .dataframe tbody tr th:only-of-type {\n",
       "        vertical-align: middle;\n",
       "    }\n",
       "\n",
       "    .dataframe tbody tr th {\n",
       "        vertical-align: top;\n",
       "    }\n",
       "\n",
       "    .dataframe thead th {\n",
       "        text-align: right;\n",
       "    }\n",
       "</style>\n",
       "<table border=\"1\" class=\"dataframe\">\n",
       "  <thead>\n",
       "    <tr style=\"text-align: right;\">\n",
       "      <th></th>\n",
       "      <th>n</th>\n",
       "      <th>group</th>\n",
       "      <th>abool</th>\n",
       "    </tr>\n",
       "  </thead>\n",
       "  <tbody>\n",
       "    <tr>\n",
       "      <th>0</th>\n",
       "      <td>-0.712391</td>\n",
       "      <td>z</td>\n",
       "      <td>False</td>\n",
       "    </tr>\n",
       "    <tr>\n",
       "      <th>1</th>\n",
       "      <td>0.753766</td>\n",
       "      <td>x</td>\n",
       "      <td>False</td>\n",
       "    </tr>\n",
       "    <tr>\n",
       "      <th>2</th>\n",
       "      <td>-0.044503</td>\n",
       "      <td>z</td>\n",
       "      <td>False</td>\n",
       "    </tr>\n",
       "  </tbody>\n",
       "</table>\n",
       "</div>"
      ],
      "text/plain": [
       "          n group  abool\n",
       "0 -0.712391     z  False\n",
       "1  0.753766     x  False\n",
       "2 -0.044503     z  False"
      ]
     },
     "execution_count": 5,
     "metadata": {},
     "output_type": "execute_result"
    }
   ],
   "source": [
    "pandas_dataframe.head(3)"
   ]
  },
  {
   "cell_type": "code",
   "execution_count": 6,
   "id": "27323970-1d82-48a2-afff-3a3f5c0b4cc1",
   "metadata": {},
   "outputs": [
    {
     "name": "stdout",
     "output_type": "stream",
     "text": [
      "+--------------------+-----+-----+\n",
      "|                   n|group|abool|\n",
      "+--------------------+-----+-----+\n",
      "|  -0.712390662050588|    z|false|\n",
      "|   0.753766378659703|    x|false|\n",
      "|-0.04450307833805...|    z|false|\n",
      "+--------------------+-----+-----+\n",
      "only showing top 3 rows\n",
      "\n"
     ]
    }
   ],
   "source": [
    "df.show(3)"
   ]
  },
  {
   "cell_type": "markdown",
   "id": "85f88aee-656b-478f-9840-e3b1bcd2d4e2",
   "metadata": {},
   "source": [
    "- Show the first 7 rows of the dataframe."
   ]
  },
  {
   "cell_type": "code",
   "execution_count": 7,
   "id": "63310203-28ff-49a6-818c-a91ff459dd2c",
   "metadata": {},
   "outputs": [
    {
     "name": "stdout",
     "output_type": "stream",
     "text": [
      "+--------------------+-----+-----+\n",
      "|                   n|group|abool|\n",
      "+--------------------+-----+-----+\n",
      "|  -0.712390662050588|    z|false|\n",
      "|   0.753766378659703|    x|false|\n",
      "|-0.04450307833805...|    z|false|\n",
      "| 0.45181233874578974|    y|false|\n",
      "|  1.3451017084510097|    z|false|\n",
      "|  0.5323378882945463|    y|false|\n",
      "|  1.3501878997225267|    z|false|\n",
      "+--------------------+-----+-----+\n",
      "only showing top 7 rows\n",
      "\n"
     ]
    }
   ],
   "source": [
    "df.show(7)"
   ]
  },
  {
   "cell_type": "markdown",
   "id": "d85d26a4-6e6e-4f61-bbb0-379ff958d6b2",
   "metadata": {},
   "source": [
    "- View a summary of the data using .describe."
   ]
  },
  {
   "cell_type": "code",
   "execution_count": 8,
   "id": "5dfba5bb-6da6-4eb0-9305-af1df456ca0d",
   "metadata": {},
   "outputs": [
    {
     "name": "stdout",
     "output_type": "stream",
     "text": [
      "+-------+-------------------+-----+\n",
      "|summary|                  n|group|\n",
      "+-------+-------------------+-----+\n",
      "|  count|                 20|   20|\n",
      "|   mean|0.36640264498852165| null|\n",
      "| stddev| 0.8905322898155364| null|\n",
      "|    min| -1.261605945319069|    x|\n",
      "|    max| 2.1503829673811126|    z|\n",
      "+-------+-------------------+-----+\n",
      "\n"
     ]
    }
   ],
   "source": [
    "df.describe().show()"
   ]
  },
  {
   "cell_type": "markdown",
   "id": "52f2c4e4-6ce4-45d0-a579-98b6cec87654",
   "metadata": {},
   "source": [
    "- Use .select to create a new dataframe with just the n and abool columns. View the first 5 rows of this dataframe."
   ]
  },
  {
   "cell_type": "code",
   "execution_count": 9,
   "id": "9130947e-3d17-4aa5-bef9-4a31cd2945e8",
   "metadata": {},
   "outputs": [
    {
     "name": "stdout",
     "output_type": "stream",
     "text": [
      "+--------------------+-----+\n",
      "|                   n|abool|\n",
      "+--------------------+-----+\n",
      "|  -0.712390662050588|false|\n",
      "|   0.753766378659703|false|\n",
      "|-0.04450307833805...|false|\n",
      "| 0.45181233874578974|false|\n",
      "|  1.3451017084510097|false|\n",
      "+--------------------+-----+\n",
      "only showing top 5 rows\n",
      "\n"
     ]
    }
   ],
   "source": [
    "df.select('n', 'abool').show(5)"
   ]
  },
  {
   "cell_type": "markdown",
   "id": "81f39dcb-1224-4e33-b70d-cebe25e06314",
   "metadata": {},
   "source": [
    "- Use .select to create a new dataframe with just the group and abool columns. View the first 5 rows of this dataframe."
   ]
  },
  {
   "cell_type": "code",
   "execution_count": 10,
   "id": "0c161a76-035a-4238-b595-7b96876c2899",
   "metadata": {},
   "outputs": [
    {
     "name": "stdout",
     "output_type": "stream",
     "text": [
      "+-----+-----+\n",
      "|group|abool|\n",
      "+-----+-----+\n",
      "|    z|false|\n",
      "|    x|false|\n",
      "|    z|false|\n",
      "|    y|false|\n",
      "|    z|false|\n",
      "+-----+-----+\n",
      "only showing top 5 rows\n",
      "\n"
     ]
    }
   ],
   "source": [
    "df.select('group', 'abool').show(5)"
   ]
  },
  {
   "cell_type": "markdown",
   "id": "f7a01f8d-9ba8-4b73-8e63-bb7e7da736be",
   "metadata": {},
   "source": [
    "- Use .select to create a new dataframe with the group column and the abool column renamed to a_boolean_value. Show the first 3 rows of this dataframe."
   ]
  },
  {
   "cell_type": "code",
   "execution_count": 11,
   "id": "bbdd89d6-77a8-49bf-84a1-860410fe4e4e",
   "metadata": {},
   "outputs": [
    {
     "name": "stdout",
     "output_type": "stream",
     "text": [
      "+-----+---------------+\n",
      "|group|a_boolean_value|\n",
      "+-----+---------------+\n",
      "|    z|          false|\n",
      "|    x|          false|\n",
      "|    z|          false|\n",
      "+-----+---------------+\n",
      "only showing top 3 rows\n",
      "\n"
     ]
    }
   ],
   "source": [
    "df.select('group', df.abool.alias('a_boolean_value')).show(3)"
   ]
  },
  {
   "cell_type": "markdown",
   "id": "48edf704-cd7b-4f9e-8fe3-6b7be69a1d6f",
   "metadata": {},
   "source": [
    "- Use .select to create a new dataframe with the group column and the n column renamed to a_numeric_value. Show the first 6 rows of this dataframe."
   ]
  },
  {
   "cell_type": "code",
   "execution_count": 12,
   "id": "b03a5bae-1389-4943-b47e-ccc8b935cb99",
   "metadata": {},
   "outputs": [
    {
     "name": "stdout",
     "output_type": "stream",
     "text": [
      "+-----+--------------------+\n",
      "|group|     a_numeric_value|\n",
      "+-----+--------------------+\n",
      "|    z|  -0.712390662050588|\n",
      "|    x|   0.753766378659703|\n",
      "|    z|-0.04450307833805...|\n",
      "|    y| 0.45181233874578974|\n",
      "|    z|  1.3451017084510097|\n",
      "|    y|  0.5323378882945463|\n",
      "+-----+--------------------+\n",
      "only showing top 6 rows\n",
      "\n"
     ]
    }
   ],
   "source": [
    "df.select('group', df.n.alias('a_numeric_value')).show(6)"
   ]
  },
  {
   "cell_type": "code",
   "execution_count": 13,
   "id": "527d73dc-7870-40fd-ab6f-ba06830e7ffb",
   "metadata": {},
   "outputs": [],
   "source": [
    "from pyspark.sql.functions import col"
   ]
  },
  {
   "cell_type": "code",
   "execution_count": 14,
   "id": "0fe27dc1-c20c-4009-9926-bcae045292cd",
   "metadata": {},
   "outputs": [
    {
     "name": "stdout",
     "output_type": "stream",
     "text": [
      "+-----+--------------------+\n",
      "|group|     a_numeric_value|\n",
      "+-----+--------------------+\n",
      "|    z|  -0.712390662050588|\n",
      "|    x|   0.753766378659703|\n",
      "|    z|-0.04450307833805...|\n",
      "|    y| 0.45181233874578974|\n",
      "|    z|  1.3451017084510097|\n",
      "|    y|  0.5323378882945463|\n",
      "+-----+--------------------+\n",
      "only showing top 6 rows\n",
      "\n"
     ]
    }
   ],
   "source": [
    "df.select('group', col('n').alias('a_numeric_value')).show(6)"
   ]
  },
  {
   "cell_type": "markdown",
   "id": "6947bef9-4df2-4877-bb9f-a47672848a1e",
   "metadata": {},
   "source": [
    "## 2."
   ]
  },
  {
   "cell_type": "markdown",
   "id": "f7f0e1b7-13bb-4101-ae73-9da12f0d07c4",
   "metadata": {},
   "source": [
    "Column Manipulation\n",
    "- Use the starter code above to re-create a spark dataframe. Store the spark dataframe in a varaible named df\n",
    "- Use .select to add 4 to the n column. Show the results."
   ]
  },
  {
   "cell_type": "code",
   "execution_count": 15,
   "id": "b2a32c2f-15e6-47dc-a785-af3039f53d91",
   "metadata": {},
   "outputs": [
    {
     "name": "stdout",
     "output_type": "stream",
     "text": [
      "+--------------------+------------------+\n",
      "|                   n|           (n + 4)|\n",
      "+--------------------+------------------+\n",
      "|  -0.712390662050588|3.2876093379494122|\n",
      "|   0.753766378659703| 4.753766378659703|\n",
      "|-0.04450307833805...|3.9554969216619464|\n",
      "| 0.45181233874578974|  4.45181233874579|\n",
      "|  1.3451017084510097|5.3451017084510095|\n",
      "|  0.5323378882945463| 4.532337888294546|\n",
      "|  1.3501878997225267| 5.350187899722527|\n",
      "|  0.8612113741693206|  4.86121137416932|\n",
      "|  1.4786857374358966| 5.478685737435897|\n",
      "| -1.0453771305385342| 2.954622869461466|\n",
      "| -0.7889890249515489|3.2110109750484512|\n",
      "|  -1.261605945319069| 2.738394054680931|\n",
      "|  0.5628467852810314| 4.562846785281032|\n",
      "|-0.24332625188556253|3.7566737481144377|\n",
      "|  0.9137407048596775| 4.913740704859677|\n",
      "| 0.31735092273633597| 4.317350922736336|\n",
      "| 0.12730328020698067| 4.127303280206981|\n",
      "|  2.1503829673811126| 6.150382967381113|\n",
      "|  0.6062886568962988| 4.606288656896298|\n",
      "|-0.02677164998644...|3.9732283500135592|\n",
      "+--------------------+------------------+\n",
      "\n"
     ]
    }
   ],
   "source": [
    "df.select('n', df.n + 4).show()"
   ]
  },
  {
   "cell_type": "markdown",
   "id": "f97cbca9-541d-4a11-9a51-cc34f0f5b44f",
   "metadata": {},
   "source": [
    "- Subtract 5 from the n column and view the results."
   ]
  },
  {
   "cell_type": "code",
   "execution_count": 16,
   "id": "5f18a10c-3444-4665-a10e-d3a1e2ad9ac1",
   "metadata": {},
   "outputs": [
    {
     "name": "stdout",
     "output_type": "stream",
     "text": [
      "+--------------------+-------------------+\n",
      "|                   n|            (n - 5)|\n",
      "+--------------------+-------------------+\n",
      "|  -0.712390662050588| -5.712390662050588|\n",
      "|   0.753766378659703| -4.246233621340297|\n",
      "|-0.04450307833805...| -5.044503078338053|\n",
      "| 0.45181233874578974|  -4.54818766125421|\n",
      "|  1.3451017084510097|-3.6548982915489905|\n",
      "|  0.5323378882945463| -4.467662111705454|\n",
      "|  1.3501878997225267|-3.6498121002774733|\n",
      "|  0.8612113741693206|  -4.13878862583068|\n",
      "|  1.4786857374358966| -3.521314262564103|\n",
      "| -1.0453771305385342| -6.045377130538534|\n",
      "| -0.7889890249515489| -5.788989024951549|\n",
      "|  -1.261605945319069| -6.261605945319069|\n",
      "|  0.5628467852810314| -4.437153214718968|\n",
      "|-0.24332625188556253| -5.243326251885563|\n",
      "|  0.9137407048596775| -4.086259295140323|\n",
      "| 0.31735092273633597| -4.682649077263664|\n",
      "| 0.12730328020698067| -4.872696719793019|\n",
      "|  2.1503829673811126|-2.8496170326188874|\n",
      "|  0.6062886568962988| -4.393711343103702|\n",
      "|-0.02677164998644...| -5.026771649986441|\n",
      "+--------------------+-------------------+\n",
      "\n"
     ]
    }
   ],
   "source": [
    "df.select('n', df.n - 5).show()"
   ]
  },
  {
   "cell_type": "markdown",
   "id": "b95a02b8-e9b1-4ce7-aabe-4aa24328735e",
   "metadata": {},
   "source": [
    "- Multiply the n column by 2. View the results along with the original numbers."
   ]
  },
  {
   "cell_type": "code",
   "execution_count": 17,
   "id": "7dd51e5f-bcf3-4abc-9cae-9a6b3020577f",
   "metadata": {},
   "outputs": [
    {
     "name": "stdout",
     "output_type": "stream",
     "text": [
      "+--------------------+--------------------+\n",
      "|                   n|             (n * 2)|\n",
      "+--------------------+--------------------+\n",
      "|  -0.712390662050588|  -1.424781324101176|\n",
      "|   0.753766378659703|   1.507532757319406|\n",
      "|-0.04450307833805...|-0.08900615667610691|\n",
      "| 0.45181233874578974|  0.9036246774915795|\n",
      "|  1.3451017084510097|  2.6902034169020195|\n",
      "|  0.5323378882945463|  1.0646757765890926|\n",
      "|  1.3501878997225267|  2.7003757994450535|\n",
      "|  0.8612113741693206|  1.7224227483386412|\n",
      "|  1.4786857374358966|   2.957371474871793|\n",
      "| -1.0453771305385342| -2.0907542610770684|\n",
      "| -0.7889890249515489| -1.5779780499030978|\n",
      "|  -1.261605945319069|  -2.523211890638138|\n",
      "|  0.5628467852810314|  1.1256935705620628|\n",
      "|-0.24332625188556253|-0.48665250377112507|\n",
      "|  0.9137407048596775|   1.827481409719355|\n",
      "| 0.31735092273633597|  0.6347018454726719|\n",
      "| 0.12730328020698067| 0.25460656041396135|\n",
      "|  2.1503829673811126|   4.300765934762225|\n",
      "|  0.6062886568962988|  1.2125773137925977|\n",
      "|-0.02677164998644...|-0.05354329997288145|\n",
      "+--------------------+--------------------+\n",
      "\n"
     ]
    }
   ],
   "source": [
    "df.select('n', df.n * 2).show()"
   ]
  },
  {
   "cell_type": "markdown",
   "id": "b375f017-0938-4b76-99e8-9658c49ce719",
   "metadata": {},
   "source": [
    "- Add a new column named n2 that is the n value multiplied by -1. Show the first 4 rows of your dataframe. You should see the original n value as well as n2."
   ]
  },
  {
   "cell_type": "code",
   "execution_count": 18,
   "id": "2efc3540-ccfb-432a-ba89-aaefad1dd085",
   "metadata": {},
   "outputs": [
    {
     "name": "stdout",
     "output_type": "stream",
     "text": [
      "+--------------------+--------------------+\n",
      "|                   n|                  n2|\n",
      "+--------------------+--------------------+\n",
      "|  -0.712390662050588|   0.712390662050588|\n",
      "|   0.753766378659703|  -0.753766378659703|\n",
      "|-0.04450307833805...|0.044503078338053455|\n",
      "| 0.45181233874578974|-0.45181233874578974|\n",
      "+--------------------+--------------------+\n",
      "only showing top 4 rows\n",
      "\n"
     ]
    }
   ],
   "source": [
    "df.select('n', (df.n * -1).alias('n2')).show(4)"
   ]
  },
  {
   "cell_type": "code",
   "execution_count": 19,
   "id": "b307f2cb-80a6-461c-8e3f-bf8c500194a9",
   "metadata": {},
   "outputs": [
    {
     "name": "stdout",
     "output_type": "stream",
     "text": [
      "+--------------------+-----+-----+--------------------+\n",
      "|                   n|group|abool|                  n2|\n",
      "+--------------------+-----+-----+--------------------+\n",
      "|  -0.712390662050588|    z|false|   0.712390662050588|\n",
      "|   0.753766378659703|    x|false|  -0.753766378659703|\n",
      "|-0.04450307833805...|    z|false|0.044503078338053455|\n",
      "| 0.45181233874578974|    y|false|-0.45181233874578974|\n",
      "+--------------------+-----+-----+--------------------+\n",
      "only showing top 4 rows\n",
      "\n"
     ]
    }
   ],
   "source": [
    "df.select('*', (df.n * -1).alias('n2')).show(4)"
   ]
  },
  {
   "cell_type": "markdown",
   "id": "0fdd09e6-4cb4-4899-bb8d-8f5b8dbb41ae",
   "metadata": {},
   "source": [
    "- Add a new column named n3 that is the n value squared. Show the first 5 rows of your dataframe. You should see both n, n2, and n3."
   ]
  },
  {
   "cell_type": "code",
   "execution_count": 20,
   "id": "a520be37-fbc9-450a-aea9-78b6e8e6a672",
   "metadata": {},
   "outputs": [
    {
     "name": "stdout",
     "output_type": "stream",
     "text": [
      "+--------------------+-----+-----+--------------------+\n",
      "|                   n|group|abool|                  n3|\n",
      "+--------------------+-----+-----+--------------------+\n",
      "|  -0.712390662050588|    z|false|   0.507500455376875|\n",
      "|   0.753766378659703|    x|false|  0.5681637535977627|\n",
      "|-0.04450307833805...|    z|false|0.001980523981562...|\n",
      "| 0.45181233874578974|    y|false| 0.20413438944294027|\n",
      "|  1.3451017084510097|    z|false|  1.8092986060778251|\n",
      "+--------------------+-----+-----+--------------------+\n",
      "only showing top 5 rows\n",
      "\n"
     ]
    }
   ],
   "source": [
    "df.select('*', (df.n ** 2).alias('n3')).show(5)"
   ]
  },
  {
   "cell_type": "markdown",
   "id": "52ae7805-8905-452f-b18d-9cb56db937df",
   "metadata": {},
   "source": [
    "- What happens when you run the code below?\n",
    "\n",
    "`df.group + df.abool`"
   ]
  },
  {
   "cell_type": "code",
   "execution_count": 21,
   "id": "500080a3-1eff-4ee7-8de2-b7bcec733018",
   "metadata": {},
   "outputs": [
    {
     "data": {
      "text/plain": [
       "Column<'(group + abool)'>"
      ]
     },
     "execution_count": 21,
     "metadata": {},
     "output_type": "execute_result"
    }
   ],
   "source": [
    "df.group + df.abool"
   ]
  },
  {
   "cell_type": "markdown",
   "id": "462b0aa2-358c-47aa-aec1-1c08c054f97f",
   "metadata": {},
   "source": [
    "You get a column object back"
   ]
  },
  {
   "cell_type": "markdown",
   "id": "4bafbb56-129b-4ae5-884d-b35867407873",
   "metadata": {},
   "source": [
    "- What happens when you run the code below? What is the difference between this and the previous code sample?\n",
    "\n",
    "`df.select(df.group + df.abool)`"
   ]
  },
  {
   "cell_type": "code",
   "execution_count": 22,
   "id": "710803e6-0c27-423a-83c7-3cd25cc7f759",
   "metadata": {},
   "outputs": [],
   "source": [
    "# df.select(df.group + df.abool)"
   ]
  },
  {
   "cell_type": "markdown",
   "id": "d3edd684-ae86-4109-bcb1-efac10d194ac",
   "metadata": {},
   "source": [
    "Returns an error that it cannot cast `group` as a double"
   ]
  },
  {
   "cell_type": "markdown",
   "id": "8e56461d-f0fe-4c78-b1dd-cb52a4469ecc",
   "metadata": {},
   "source": [
    "- Try adding various other columns together. What are the results of combining the different data types?"
   ]
  },
  {
   "cell_type": "code",
   "execution_count": 23,
   "id": "db85f8f7-5ba3-4696-abce-4d4cd453f8c6",
   "metadata": {},
   "outputs": [],
   "source": [
    "# df.select(df.n + df.abool)"
   ]
  },
  {
   "cell_type": "markdown",
   "id": "04b87713-f2c7-47ad-9cf8-2eecbbfa371c",
   "metadata": {},
   "source": [
    "Also a type mismatch"
   ]
  },
  {
   "cell_type": "markdown",
   "id": "d16fbc88-0595-413b-b3cb-ac2f90521ffd",
   "metadata": {},
   "source": [
    "## 3."
   ]
  },
  {
   "cell_type": "markdown",
   "id": "bd084cd6-5b61-42d4-b0e9-5bc2c97b4161",
   "metadata": {},
   "source": [
    "Type casting\n",
    "- Use the starter code above to re-create a spark dataframe.\n",
    "- Use .printSchema to view the datatypes in your dataframe."
   ]
  },
  {
   "cell_type": "code",
   "execution_count": 24,
   "id": "d923b84d-8d6e-4b2f-890e-b1fa43f2a59c",
   "metadata": {},
   "outputs": [
    {
     "name": "stdout",
     "output_type": "stream",
     "text": [
      "root\n",
      " |-- n: double (nullable = true)\n",
      " |-- group: string (nullable = true)\n",
      " |-- abool: boolean (nullable = true)\n",
      "\n"
     ]
    }
   ],
   "source": [
    "df.printSchema()"
   ]
  },
  {
   "cell_type": "markdown",
   "id": "9fbff59d-4c2c-4d6f-a758-89b34f504f84",
   "metadata": {},
   "source": [
    "- Use .dtypes to view the datatypes in your dataframe."
   ]
  },
  {
   "cell_type": "code",
   "execution_count": 25,
   "id": "d0c77167-ded3-43a7-bbc4-de2a699325f0",
   "metadata": {},
   "outputs": [
    {
     "data": {
      "text/plain": [
       "[('n', 'double'), ('group', 'string'), ('abool', 'boolean')]"
      ]
     },
     "execution_count": 25,
     "metadata": {},
     "output_type": "execute_result"
    }
   ],
   "source": [
    "df.dtypes"
   ]
  },
  {
   "cell_type": "markdown",
   "id": "3c76c68d-3e6c-4aaa-a045-3b0c425e8db9",
   "metadata": {},
   "source": [
    "- What is the difference between the two code samples below?\n",
    "\n",
    "`df.abool.cast('int')`\n",
    "\n",
    "`df.select(df.abool.cast('int')).show()`"
   ]
  },
  {
   "cell_type": "code",
   "execution_count": 26,
   "id": "4100e683-c567-4491-9973-ee24bf10c649",
   "metadata": {},
   "outputs": [
    {
     "data": {
      "text/plain": [
       "Column<'CAST(abool AS INT)'>"
      ]
     },
     "execution_count": 26,
     "metadata": {},
     "output_type": "execute_result"
    }
   ],
   "source": [
    "df.abool.cast('int')"
   ]
  },
  {
   "cell_type": "code",
   "execution_count": 27,
   "id": "0b82177f-27d0-46cc-9d7a-4809c654d0c0",
   "metadata": {},
   "outputs": [
    {
     "name": "stdout",
     "output_type": "stream",
     "text": [
      "+-----+\n",
      "|abool|\n",
      "+-----+\n",
      "|    0|\n",
      "|    0|\n",
      "|    0|\n",
      "|    0|\n",
      "|    0|\n",
      "|    0|\n",
      "|    0|\n",
      "|    0|\n",
      "|    1|\n",
      "|    1|\n",
      "|    0|\n",
      "|    0|\n",
      "|    1|\n",
      "|    1|\n",
      "|    0|\n",
      "|    0|\n",
      "|    0|\n",
      "|    1|\n",
      "|    0|\n",
      "|    1|\n",
      "+-----+\n",
      "\n"
     ]
    }
   ],
   "source": [
    "df.select(df.abool.cast('int')).show()"
   ]
  },
  {
   "cell_type": "markdown",
   "id": "9fa33972-8e5e-44b1-877a-cb76d8dcc9b0",
   "metadata": {},
   "source": [
    "One is creating a column and one is using that same column in a select to show the results"
   ]
  },
  {
   "cell_type": "markdown",
   "id": "9568725e-e02d-47b7-9959-4067536dbe0e",
   "metadata": {},
   "source": [
    "- Use .select and .cast to convert the abool column to an integer type. View the results."
   ]
  },
  {
   "cell_type": "code",
   "execution_count": 28,
   "id": "d724d525-3114-481d-a4ef-10dc762876ea",
   "metadata": {},
   "outputs": [
    {
     "name": "stdout",
     "output_type": "stream",
     "text": [
      "+-----+-----+\n",
      "|abool|abool|\n",
      "+-----+-----+\n",
      "|false|    0|\n",
      "|false|    0|\n",
      "|false|    0|\n",
      "|false|    0|\n",
      "|false|    0|\n",
      "|false|    0|\n",
      "|false|    0|\n",
      "|false|    0|\n",
      "| true|    1|\n",
      "| true|    1|\n",
      "|false|    0|\n",
      "|false|    0|\n",
      "| true|    1|\n",
      "| true|    1|\n",
      "|false|    0|\n",
      "|false|    0|\n",
      "|false|    0|\n",
      "| true|    1|\n",
      "|false|    0|\n",
      "| true|    1|\n",
      "+-----+-----+\n",
      "\n"
     ]
    }
   ],
   "source": [
    "df.select('abool', df.abool.cast('int')).show()"
   ]
  },
  {
   "cell_type": "markdown",
   "id": "b2507012-62ac-4759-bba4-180f65ae7c40",
   "metadata": {},
   "source": [
    "- Convert the group column to a integer data type and view the results. What happens?"
   ]
  },
  {
   "cell_type": "code",
   "execution_count": 29,
   "id": "5653c317-05ee-4f6f-8c45-6bd72bc16137",
   "metadata": {},
   "outputs": [
    {
     "name": "stdout",
     "output_type": "stream",
     "text": [
      "+-----+-----+\n",
      "|group|group|\n",
      "+-----+-----+\n",
      "|    z| null|\n",
      "|    x| null|\n",
      "|    z| null|\n",
      "|    y| null|\n",
      "|    z| null|\n",
      "|    y| null|\n",
      "|    z| null|\n",
      "|    x| null|\n",
      "|    z| null|\n",
      "|    y| null|\n",
      "|    x| null|\n",
      "|    y| null|\n",
      "|    y| null|\n",
      "|    y| null|\n",
      "|    y| null|\n",
      "|    x| null|\n",
      "|    z| null|\n",
      "|    y| null|\n",
      "|    x| null|\n",
      "|    x| null|\n",
      "+-----+-----+\n",
      "\n"
     ]
    }
   ],
   "source": [
    "df.select('group', df.group.cast('int')).show()"
   ]
  },
  {
   "cell_type": "markdown",
   "id": "7d938d5d-a51f-4fd7-a7f8-2483dfea57a5",
   "metadata": {},
   "source": [
    "All nulls due to group being a string datatype"
   ]
  },
  {
   "cell_type": "markdown",
   "id": "59c41c43-9b58-4ce6-91ee-d0ca021197c8",
   "metadata": {},
   "source": [
    "- Convert the n column to a integer data type and view the results. What happens?"
   ]
  },
  {
   "cell_type": "code",
   "execution_count": 30,
   "id": "473af1d9-9eff-4e15-828a-f233ec175648",
   "metadata": {},
   "outputs": [
    {
     "name": "stdout",
     "output_type": "stream",
     "text": [
      "+--------------------+---+\n",
      "|                   n|  n|\n",
      "+--------------------+---+\n",
      "|  -0.712390662050588|  0|\n",
      "|   0.753766378659703|  0|\n",
      "|-0.04450307833805...|  0|\n",
      "| 0.45181233874578974|  0|\n",
      "|  1.3451017084510097|  1|\n",
      "|  0.5323378882945463|  0|\n",
      "|  1.3501878997225267|  1|\n",
      "|  0.8612113741693206|  0|\n",
      "|  1.4786857374358966|  1|\n",
      "| -1.0453771305385342| -1|\n",
      "| -0.7889890249515489|  0|\n",
      "|  -1.261605945319069| -1|\n",
      "|  0.5628467852810314|  0|\n",
      "|-0.24332625188556253|  0|\n",
      "|  0.9137407048596775|  0|\n",
      "| 0.31735092273633597|  0|\n",
      "| 0.12730328020698067|  0|\n",
      "|  2.1503829673811126|  2|\n",
      "|  0.6062886568962988|  0|\n",
      "|-0.02677164998644...|  0|\n",
      "+--------------------+---+\n",
      "\n"
     ]
    }
   ],
   "source": [
    "df.select('n', df.n.cast('int')).show()"
   ]
  },
  {
   "cell_type": "markdown",
   "id": "2828f83c-d40d-4372-92be-5442b768289f",
   "metadata": {},
   "source": [
    "Seems like it rounds to the nearest int"
   ]
  },
  {
   "cell_type": "markdown",
   "id": "ccb7124e-e644-4ebc-88a1-95d2a9791599",
   "metadata": {},
   "source": [
    "- Convert the abool column to a string data type and view the results. What happens?"
   ]
  },
  {
   "cell_type": "code",
   "execution_count": 31,
   "id": "7b0e9935-22b5-46cc-95a3-06655bbd7e1c",
   "metadata": {},
   "outputs": [
    {
     "data": {
      "text/plain": [
       "[('abool', 'boolean'), ('abool', 'string')]"
      ]
     },
     "execution_count": 31,
     "metadata": {},
     "output_type": "execute_result"
    }
   ],
   "source": [
    "df.select('abool', df.abool.cast('string')).dtypes"
   ]
  },
  {
   "cell_type": "markdown",
   "id": "7da70c11-0f18-4c54-b22f-f1f9dad6718f",
   "metadata": {},
   "source": [
    "Looks the same, but types are different"
   ]
  },
  {
   "cell_type": "markdown",
   "id": "52d43daf-042d-43ff-a135-84141ce8abb4",
   "metadata": {},
   "source": [
    "## 4."
   ]
  },
  {
   "cell_type": "markdown",
   "id": "22031192-ef0e-4d27-8863-702b12583845",
   "metadata": {},
   "source": [
    "Built-in Functions\n",
    "- Use the starter code above to re-create a spark dataframe.\n",
    "- Import the necessary functions from pyspark.sql.functions"
   ]
  },
  {
   "cell_type": "code",
   "execution_count": 32,
   "id": "fd580175-b7e3-47d2-b126-1f54e71e520d",
   "metadata": {},
   "outputs": [],
   "source": [
    "from pyspark.sql.functions import min, max, mean, lit, concat"
   ]
  },
  {
   "cell_type": "markdown",
   "id": "5a6c5f30-0d44-4fca-abb2-0d1809913a02",
   "metadata": {},
   "source": [
    "- Find the highest n value.\n",
    "- Find the lowest n value.\n",
    "- Find the average n value."
   ]
  },
  {
   "cell_type": "code",
   "execution_count": 33,
   "id": "9d16de61-fd2b-4bd1-81e1-e48f5ac82095",
   "metadata": {},
   "outputs": [
    {
     "name": "stdout",
     "output_type": "stream",
     "text": [
      "+------------------+------------------+-------------------+\n",
      "|            max(n)|            min(n)|             avg(n)|\n",
      "+------------------+------------------+-------------------+\n",
      "|2.1503829673811126|-1.261605945319069|0.36640264498852165|\n",
      "+------------------+------------------+-------------------+\n",
      "\n"
     ]
    }
   ],
   "source": [
    "df.select(max('n'), min('n'), mean('n')).show()"
   ]
  },
  {
   "cell_type": "markdown",
   "id": "91b63459-f60d-4d1a-bd2b-224bf793ccc4",
   "metadata": {},
   "source": [
    "- Use concat to change the group column to say, e.g. \"Group: x\" or \"Group: y\""
   ]
  },
  {
   "cell_type": "code",
   "execution_count": 34,
   "id": "ba301182-74ef-403c-b4cf-52ea94f8b56e",
   "metadata": {},
   "outputs": [
    {
     "name": "stdout",
     "output_type": "stream",
     "text": [
      "+----------------------+\n",
      "|concat(Group: , group)|\n",
      "+----------------------+\n",
      "|              Group: z|\n",
      "|              Group: x|\n",
      "|              Group: z|\n",
      "+----------------------+\n",
      "only showing top 3 rows\n",
      "\n"
     ]
    }
   ],
   "source": [
    "df.select(concat(lit('Group: '), 'group')).show(3)"
   ]
  },
  {
   "cell_type": "markdown",
   "id": "bc19005a-73dd-42b1-83ad-eeb7ccf1723f",
   "metadata": {},
   "source": [
    "- Use concat to combine the n and group columns to produce results that look like this: \"x: -1.432\" or \"z: 2.352\""
   ]
  },
  {
   "cell_type": "code",
   "execution_count": 35,
   "id": "2d9049f9-9163-46d4-aafe-ccb06429fe4b",
   "metadata": {},
   "outputs": [
    {
     "name": "stdout",
     "output_type": "stream",
     "text": [
      "+--------------------+\n",
      "|concat(group, : , n)|\n",
      "+--------------------+\n",
      "|z: -0.71239066205...|\n",
      "|x: 0.753766378659703|\n",
      "|z: -0.04450307833...|\n",
      "+--------------------+\n",
      "only showing top 3 rows\n",
      "\n"
     ]
    }
   ],
   "source": [
    "df.select(concat('group', lit(': '), 'n')).show(3)"
   ]
  },
  {
   "cell_type": "markdown",
   "id": "4dd38270-7c42-4b4b-b924-19b33c052874",
   "metadata": {},
   "source": [
    "## 5."
   ]
  },
  {
   "cell_type": "markdown",
   "id": "be04875c-32be-4807-966e-ff4aabd75e18",
   "metadata": {},
   "source": [
    "When / Otherwise\n",
    "- Use the starter code above to re-create a spark dataframe.\n",
    "- Use when and .otherwise to create a column that contains the text \"It is true\" when abool is true and \"It is false\"\" when abool is false."
   ]
  },
  {
   "cell_type": "code",
   "execution_count": 36,
   "id": "8f991548-c144-45a0-b029-76755566daa3",
   "metadata": {},
   "outputs": [],
   "source": [
    "from pyspark.sql.functions import when"
   ]
  },
  {
   "cell_type": "code",
   "execution_count": 37,
   "id": "9c8afc7e-54bb-4135-aa28-dac73e734ca7",
   "metadata": {},
   "outputs": [
    {
     "name": "stdout",
     "output_type": "stream",
     "text": [
      "+----------------------------------------------------+\n",
      "|CASE WHEN abool THEN It is true ELSE It is false END|\n",
      "+----------------------------------------------------+\n",
      "|                                         It is false|\n",
      "|                                         It is false|\n",
      "|                                         It is false|\n",
      "|                                         It is false|\n",
      "|                                         It is false|\n",
      "|                                         It is false|\n",
      "|                                         It is false|\n",
      "|                                         It is false|\n",
      "|                                          It is true|\n",
      "|                                          It is true|\n",
      "|                                         It is false|\n",
      "|                                         It is false|\n",
      "|                                          It is true|\n",
      "|                                          It is true|\n",
      "|                                         It is false|\n",
      "|                                         It is false|\n",
      "|                                         It is false|\n",
      "|                                          It is true|\n",
      "|                                         It is false|\n",
      "|                                          It is true|\n",
      "+----------------------------------------------------+\n",
      "\n"
     ]
    }
   ],
   "source": [
    "df.select(when(df.abool, 'It is true').otherwise('It is false')).show()"
   ]
  },
  {
   "cell_type": "markdown",
   "id": "2217b9f5-f6e9-4e00-b137-89b6e18dc008",
   "metadata": {},
   "source": [
    "- Create a column that contains 0 if n is less than 0, otherwise, the original n value."
   ]
  },
  {
   "cell_type": "code",
   "execution_count": 38,
   "id": "a4668c3d-6d3e-4dda-a04a-1f397f735ee9",
   "metadata": {},
   "outputs": [
    {
     "name": "stdout",
     "output_type": "stream",
     "text": [
      "+--------------------+-----------------------------------+\n",
      "|                   n|CASE WHEN (n < 0) THEN 0 ELSE n END|\n",
      "+--------------------+-----------------------------------+\n",
      "|  -0.712390662050588|                                0.0|\n",
      "|   0.753766378659703|                  0.753766378659703|\n",
      "|-0.04450307833805...|                                0.0|\n",
      "| 0.45181233874578974|                0.45181233874578974|\n",
      "|  1.3451017084510097|                 1.3451017084510097|\n",
      "|  0.5323378882945463|                 0.5323378882945463|\n",
      "|  1.3501878997225267|                 1.3501878997225267|\n",
      "|  0.8612113741693206|                 0.8612113741693206|\n",
      "|  1.4786857374358966|                 1.4786857374358966|\n",
      "| -1.0453771305385342|                                0.0|\n",
      "| -0.7889890249515489|                                0.0|\n",
      "|  -1.261605945319069|                                0.0|\n",
      "|  0.5628467852810314|                 0.5628467852810314|\n",
      "|-0.24332625188556253|                                0.0|\n",
      "|  0.9137407048596775|                 0.9137407048596775|\n",
      "| 0.31735092273633597|                0.31735092273633597|\n",
      "| 0.12730328020698067|                0.12730328020698067|\n",
      "|  2.1503829673811126|                 2.1503829673811126|\n",
      "|  0.6062886568962988|                 0.6062886568962988|\n",
      "|-0.02677164998644...|                                0.0|\n",
      "+--------------------+-----------------------------------+\n",
      "\n"
     ]
    }
   ],
   "source": [
    "df.select('n', when(df.n < 0, 0).otherwise(df.n)).show()"
   ]
  },
  {
   "cell_type": "markdown",
   "id": "816bf5b5-78b6-4eeb-8d5c-a65039599512",
   "metadata": {},
   "source": [
    "## 6."
   ]
  },
  {
   "cell_type": "markdown",
   "id": "e1cd12c8-c246-409d-a8e4-a2c042d27363",
   "metadata": {},
   "source": [
    "Filter / Where\n",
    "- Use the starter code above to re-create a spark dataframe.\n",
    "- Use .filter or .where to select just the rows where the group is y and view the results."
   ]
  },
  {
   "cell_type": "code",
   "execution_count": 39,
   "id": "fbb3cb94-dce4-4c8b-8f91-7727cd17cc87",
   "metadata": {},
   "outputs": [
    {
     "name": "stdout",
     "output_type": "stream",
     "text": [
      "+--------------------+-----+-----+\n",
      "|                   n|group|abool|\n",
      "+--------------------+-----+-----+\n",
      "| 0.45181233874578974|    y|false|\n",
      "|  0.5323378882945463|    y|false|\n",
      "| -1.0453771305385342|    y| true|\n",
      "|  -1.261605945319069|    y|false|\n",
      "|  0.5628467852810314|    y| true|\n",
      "|-0.24332625188556253|    y| true|\n",
      "|  0.9137407048596775|    y|false|\n",
      "|  2.1503829673811126|    y| true|\n",
      "+--------------------+-----+-----+\n",
      "\n"
     ]
    }
   ],
   "source": [
    "df.filter(df.group == 'y').show()"
   ]
  },
  {
   "cell_type": "markdown",
   "id": "3d1d8adc-c466-4acb-a553-89e48d9d4b4f",
   "metadata": {},
   "source": [
    "- Select just the columns where the abool column is false and view the results."
   ]
  },
  {
   "cell_type": "code",
   "execution_count": 40,
   "id": "bc917092-9613-4bbd-8097-f04dad96315e",
   "metadata": {},
   "outputs": [
    {
     "name": "stdout",
     "output_type": "stream",
     "text": [
      "+--------------------+-----+-----+\n",
      "|                   n|group|abool|\n",
      "+--------------------+-----+-----+\n",
      "|  -0.712390662050588|    z|false|\n",
      "|   0.753766378659703|    x|false|\n",
      "|-0.04450307833805...|    z|false|\n",
      "| 0.45181233874578974|    y|false|\n",
      "|  1.3451017084510097|    z|false|\n",
      "|  0.5323378882945463|    y|false|\n",
      "|  1.3501878997225267|    z|false|\n",
      "|  0.8612113741693206|    x|false|\n",
      "| -0.7889890249515489|    x|false|\n",
      "|  -1.261605945319069|    y|false|\n",
      "|  0.9137407048596775|    y|false|\n",
      "| 0.31735092273633597|    x|false|\n",
      "| 0.12730328020698067|    z|false|\n",
      "|  0.6062886568962988|    x|false|\n",
      "+--------------------+-----+-----+\n",
      "\n"
     ]
    }
   ],
   "source": [
    "df.filter(df.abool == False).show()"
   ]
  },
  {
   "cell_type": "code",
   "execution_count": 41,
   "id": "79854b15-dc6a-4373-a0d9-376b1e5d4f8f",
   "metadata": {},
   "outputs": [
    {
     "name": "stdout",
     "output_type": "stream",
     "text": [
      "+--------------------+-----+-----+\n",
      "|                   n|group|abool|\n",
      "+--------------------+-----+-----+\n",
      "|  -0.712390662050588|    z|false|\n",
      "|   0.753766378659703|    x|false|\n",
      "|-0.04450307833805...|    z|false|\n",
      "| 0.45181233874578974|    y|false|\n",
      "|  1.3451017084510097|    z|false|\n",
      "|  0.5323378882945463|    y|false|\n",
      "|  1.3501878997225267|    z|false|\n",
      "|  0.8612113741693206|    x|false|\n",
      "| -0.7889890249515489|    x|false|\n",
      "|  -1.261605945319069|    y|false|\n",
      "|  0.9137407048596775|    y|false|\n",
      "| 0.31735092273633597|    x|false|\n",
      "| 0.12730328020698067|    z|false|\n",
      "|  0.6062886568962988|    x|false|\n",
      "+--------------------+-----+-----+\n",
      "\n"
     ]
    }
   ],
   "source": [
    "df.filter(~df.abool).show()"
   ]
  },
  {
   "cell_type": "markdown",
   "id": "c6b546f3-2000-4d57-8d6f-bf753ccd4d6a",
   "metadata": {},
   "source": [
    "- Find the columns where the group column is not y."
   ]
  },
  {
   "cell_type": "code",
   "execution_count": 42,
   "id": "8b933603-55a5-40f1-bac6-1bfae4ebea21",
   "metadata": {},
   "outputs": [
    {
     "name": "stdout",
     "output_type": "stream",
     "text": [
      "+--------------------+-----+-----+\n",
      "|                   n|group|abool|\n",
      "+--------------------+-----+-----+\n",
      "|  -0.712390662050588|    z|false|\n",
      "|   0.753766378659703|    x|false|\n",
      "|-0.04450307833805...|    z|false|\n",
      "|  1.3451017084510097|    z|false|\n",
      "|  1.3501878997225267|    z|false|\n",
      "|  0.8612113741693206|    x|false|\n",
      "|  1.4786857374358966|    z| true|\n",
      "| -0.7889890249515489|    x|false|\n",
      "| 0.31735092273633597|    x|false|\n",
      "| 0.12730328020698067|    z|false|\n",
      "|  0.6062886568962988|    x|false|\n",
      "|-0.02677164998644...|    x| true|\n",
      "+--------------------+-----+-----+\n",
      "\n"
     ]
    }
   ],
   "source": [
    "df.filter(df.group != 'y').show()"
   ]
  },
  {
   "cell_type": "markdown",
   "id": "512ec63f-2957-467a-83e0-51a0e55260bf",
   "metadata": {},
   "source": [
    "- Find the columns where n is positive."
   ]
  },
  {
   "cell_type": "code",
   "execution_count": 43,
   "id": "cffdfe99-1ab0-4d74-9e19-000fabbe0d27",
   "metadata": {},
   "outputs": [
    {
     "name": "stdout",
     "output_type": "stream",
     "text": [
      "+-------------------+-----+-----+\n",
      "|                  n|group|abool|\n",
      "+-------------------+-----+-----+\n",
      "|  0.753766378659703|    x|false|\n",
      "|0.45181233874578974|    y|false|\n",
      "| 1.3451017084510097|    z|false|\n",
      "| 0.5323378882945463|    y|false|\n",
      "| 1.3501878997225267|    z|false|\n",
      "| 0.8612113741693206|    x|false|\n",
      "| 1.4786857374358966|    z| true|\n",
      "| 0.5628467852810314|    y| true|\n",
      "| 0.9137407048596775|    y|false|\n",
      "|0.31735092273633597|    x|false|\n",
      "|0.12730328020698067|    z|false|\n",
      "| 2.1503829673811126|    y| true|\n",
      "| 0.6062886568962988|    x|false|\n",
      "+-------------------+-----+-----+\n",
      "\n"
     ]
    }
   ],
   "source": [
    "df.filter(df.n > 0).show()"
   ]
  },
  {
   "cell_type": "markdown",
   "id": "c6a9a994-8fd4-49e6-a4a1-e9d61e9b204e",
   "metadata": {},
   "source": [
    "- Find the columns where abool is true and the group column is z."
   ]
  },
  {
   "cell_type": "code",
   "execution_count": 44,
   "id": "d63f5967-c5ce-4951-be59-9302419a0e1e",
   "metadata": {},
   "outputs": [
    {
     "name": "stdout",
     "output_type": "stream",
     "text": [
      "+------------------+-----+-----+\n",
      "|                 n|group|abool|\n",
      "+------------------+-----+-----+\n",
      "|1.4786857374358966|    z| true|\n",
      "+------------------+-----+-----+\n",
      "\n"
     ]
    }
   ],
   "source": [
    "df.filter(df.abool & (df.group == 'z')).show()"
   ]
  },
  {
   "cell_type": "markdown",
   "id": "36e91711-9cd4-4f39-a2ad-328af88a1448",
   "metadata": {},
   "source": [
    "- Find the columns where abool is true or the group column is z."
   ]
  },
  {
   "cell_type": "code",
   "execution_count": 45,
   "id": "35352af7-ebb0-4aee-bfaf-48d57bd77577",
   "metadata": {},
   "outputs": [
    {
     "name": "stdout",
     "output_type": "stream",
     "text": [
      "+--------------------+-----+-----+\n",
      "|                   n|group|abool|\n",
      "+--------------------+-----+-----+\n",
      "|  -0.712390662050588|    z|false|\n",
      "|-0.04450307833805...|    z|false|\n",
      "|  1.3451017084510097|    z|false|\n",
      "|  1.3501878997225267|    z|false|\n",
      "|  1.4786857374358966|    z| true|\n",
      "| -1.0453771305385342|    y| true|\n",
      "|  0.5628467852810314|    y| true|\n",
      "|-0.24332625188556253|    y| true|\n",
      "| 0.12730328020698067|    z|false|\n",
      "|  2.1503829673811126|    y| true|\n",
      "|-0.02677164998644...|    x| true|\n",
      "+--------------------+-----+-----+\n",
      "\n"
     ]
    }
   ],
   "source": [
    "df.filter(df.abool | (df.group == 'z')).show()"
   ]
  },
  {
   "cell_type": "markdown",
   "id": "2224a14b-80ee-41fa-a9d6-5d7393e64008",
   "metadata": {},
   "source": [
    "- Find the columns where abool is false and n is less than 1"
   ]
  },
  {
   "cell_type": "code",
   "execution_count": 46,
   "id": "4a883956-f79a-4db8-af21-c6afbc51a4b6",
   "metadata": {},
   "outputs": [
    {
     "name": "stdout",
     "output_type": "stream",
     "text": [
      "+--------------------+-----+-----+\n",
      "|                   n|group|abool|\n",
      "+--------------------+-----+-----+\n",
      "|  -0.712390662050588|    z|false|\n",
      "|   0.753766378659703|    x|false|\n",
      "|-0.04450307833805...|    z|false|\n",
      "| 0.45181233874578974|    y|false|\n",
      "|  0.5323378882945463|    y|false|\n",
      "|  0.8612113741693206|    x|false|\n",
      "| -0.7889890249515489|    x|false|\n",
      "|  -1.261605945319069|    y|false|\n",
      "|  0.9137407048596775|    y|false|\n",
      "| 0.31735092273633597|    x|false|\n",
      "| 0.12730328020698067|    z|false|\n",
      "|  0.6062886568962988|    x|false|\n",
      "+--------------------+-----+-----+\n",
      "\n"
     ]
    }
   ],
   "source": [
    "df.filter((df.abool == False) & (df.n < 1)).show()"
   ]
  },
  {
   "cell_type": "code",
   "execution_count": 47,
   "id": "58cdedaf-19c9-48fe-be49-e7d6862b5dec",
   "metadata": {},
   "outputs": [
    {
     "name": "stdout",
     "output_type": "stream",
     "text": [
      "+--------------------+-----+-----+\n",
      "|                   n|group|abool|\n",
      "+--------------------+-----+-----+\n",
      "|  -0.712390662050588|    z|false|\n",
      "|   0.753766378659703|    x|false|\n",
      "|-0.04450307833805...|    z|false|\n",
      "| 0.45181233874578974|    y|false|\n",
      "|  0.5323378882945463|    y|false|\n",
      "|  0.8612113741693206|    x|false|\n",
      "| -0.7889890249515489|    x|false|\n",
      "|  -1.261605945319069|    y|false|\n",
      "|  0.9137407048596775|    y|false|\n",
      "| 0.31735092273633597|    x|false|\n",
      "| 0.12730328020698067|    z|false|\n",
      "|  0.6062886568962988|    x|false|\n",
      "+--------------------+-----+-----+\n",
      "\n"
     ]
    }
   ],
   "source": [
    "df.filter((~df.abool) & (df.n < 1)).show()"
   ]
  },
  {
   "cell_type": "markdown",
   "id": "ab9825bb-94f4-4f48-8050-7f787df1d254",
   "metadata": {},
   "source": [
    "- Find the columns where abool is false or n is less than 1"
   ]
  },
  {
   "cell_type": "code",
   "execution_count": 48,
   "id": "02164e0b-37a9-40df-a4ae-8d44179d53d0",
   "metadata": {},
   "outputs": [
    {
     "name": "stdout",
     "output_type": "stream",
     "text": [
      "+--------------------+-----+-----+\n",
      "|                   n|group|abool|\n",
      "+--------------------+-----+-----+\n",
      "|  -0.712390662050588|    z|false|\n",
      "|   0.753766378659703|    x|false|\n",
      "|-0.04450307833805...|    z|false|\n",
      "| 0.45181233874578974|    y|false|\n",
      "|  1.3451017084510097|    z|false|\n",
      "|  0.5323378882945463|    y|false|\n",
      "|  1.3501878997225267|    z|false|\n",
      "|  0.8612113741693206|    x|false|\n",
      "| -1.0453771305385342|    y| true|\n",
      "| -0.7889890249515489|    x|false|\n",
      "|  -1.261605945319069|    y|false|\n",
      "|  0.5628467852810314|    y| true|\n",
      "|-0.24332625188556253|    y| true|\n",
      "|  0.9137407048596775|    y|false|\n",
      "| 0.31735092273633597|    x|false|\n",
      "| 0.12730328020698067|    z|false|\n",
      "|  0.6062886568962988|    x|false|\n",
      "|-0.02677164998644...|    x| true|\n",
      "+--------------------+-----+-----+\n",
      "\n"
     ]
    }
   ],
   "source": [
    "df.filter((~df.abool) | (df.n < 1)).show()"
   ]
  },
  {
   "cell_type": "markdown",
   "id": "3fae4380-8baf-4435-aa94-07b6dceac0f5",
   "metadata": {},
   "source": [
    "## 7."
   ]
  },
  {
   "cell_type": "markdown",
   "id": "213b96d0-72c3-4e2e-b3ab-abf038697b98",
   "metadata": {},
   "source": [
    "Sorting\n",
    "- Use the starter code above to re-create a spark dataframe.\n",
    "- Sort by the n value."
   ]
  },
  {
   "cell_type": "code",
   "execution_count": 49,
   "id": "54cd28d4-1d39-42fb-84df-c66ce0487fe4",
   "metadata": {},
   "outputs": [
    {
     "name": "stdout",
     "output_type": "stream",
     "text": [
      "+--------------------+-----+-----+\n",
      "|                   n|group|abool|\n",
      "+--------------------+-----+-----+\n",
      "|  -1.261605945319069|    y|false|\n",
      "| -1.0453771305385342|    y| true|\n",
      "| -0.7889890249515489|    x|false|\n",
      "|  -0.712390662050588|    z|false|\n",
      "|-0.24332625188556253|    y| true|\n",
      "|-0.04450307833805...|    z|false|\n",
      "|-0.02677164998644...|    x| true|\n",
      "| 0.12730328020698067|    z|false|\n",
      "| 0.31735092273633597|    x|false|\n",
      "| 0.45181233874578974|    y|false|\n",
      "|  0.5323378882945463|    y|false|\n",
      "|  0.5628467852810314|    y| true|\n",
      "|  0.6062886568962988|    x|false|\n",
      "|   0.753766378659703|    x|false|\n",
      "|  0.8612113741693206|    x|false|\n",
      "|  0.9137407048596775|    y|false|\n",
      "|  1.3451017084510097|    z|false|\n",
      "|  1.3501878997225267|    z|false|\n",
      "|  1.4786857374358966|    z| true|\n",
      "|  2.1503829673811126|    y| true|\n",
      "+--------------------+-----+-----+\n",
      "\n"
     ]
    }
   ],
   "source": [
    "df.sort('n').show()"
   ]
  },
  {
   "cell_type": "markdown",
   "id": "4b741acb-93e5-47e0-a4fe-c16b6aa216f1",
   "metadata": {},
   "source": [
    "- Sort by the group value, both ascending and descending."
   ]
  },
  {
   "cell_type": "code",
   "execution_count": 50,
   "id": "a5984703-e611-4294-b32a-6b3b6c1eebc5",
   "metadata": {},
   "outputs": [
    {
     "name": "stdout",
     "output_type": "stream",
     "text": [
      "+--------------------+-----+-----+\n",
      "|                   n|group|abool|\n",
      "+--------------------+-----+-----+\n",
      "|   0.753766378659703|    x|false|\n",
      "|-0.02677164998644...|    x| true|\n",
      "| -0.7889890249515489|    x|false|\n",
      "|  0.6062886568962988|    x|false|\n",
      "|  0.8612113741693206|    x|false|\n",
      "| 0.31735092273633597|    x|false|\n",
      "|-0.24332625188556253|    y| true|\n",
      "|  -1.261605945319069|    y|false|\n",
      "| -1.0453771305385342|    y| true|\n",
      "|  0.5323378882945463|    y|false|\n",
      "|  0.9137407048596775|    y|false|\n",
      "|  0.5628467852810314|    y| true|\n",
      "| 0.45181233874578974|    y|false|\n",
      "|  2.1503829673811126|    y| true|\n",
      "| 0.12730328020698067|    z|false|\n",
      "|  -0.712390662050588|    z|false|\n",
      "|-0.04450307833805...|    z|false|\n",
      "|  1.3501878997225267|    z|false|\n",
      "|  1.3451017084510097|    z|false|\n",
      "|  1.4786857374358966|    z| true|\n",
      "+--------------------+-----+-----+\n",
      "\n"
     ]
    }
   ],
   "source": [
    "df.sort('group').show()"
   ]
  },
  {
   "cell_type": "code",
   "execution_count": 51,
   "id": "e6fa8abf-de37-43b0-ab9c-fc67c5e1f99c",
   "metadata": {},
   "outputs": [],
   "source": [
    "from pyspark.sql.functions import asc, desc"
   ]
  },
  {
   "cell_type": "code",
   "execution_count": 52,
   "id": "4975f9e1-efb6-4eaa-be8e-94c28eb06d3b",
   "metadata": {},
   "outputs": [
    {
     "name": "stdout",
     "output_type": "stream",
     "text": [
      "+--------------------+-----+-----+\n",
      "|                   n|group|abool|\n",
      "+--------------------+-----+-----+\n",
      "|-0.02677164998644...|    x| true|\n",
      "|  0.6062886568962988|    x|false|\n",
      "| 0.31735092273633597|    x|false|\n",
      "|   0.753766378659703|    x|false|\n",
      "| -0.7889890249515489|    x|false|\n",
      "|  0.8612113741693206|    x|false|\n",
      "| 0.45181233874578974|    y|false|\n",
      "|  -1.261605945319069|    y|false|\n",
      "|-0.24332625188556253|    y| true|\n",
      "| -1.0453771305385342|    y| true|\n",
      "|  0.9137407048596775|    y|false|\n",
      "|  2.1503829673811126|    y| true|\n",
      "|  0.5628467852810314|    y| true|\n",
      "|  0.5323378882945463|    y|false|\n",
      "|  -0.712390662050588|    z|false|\n",
      "|-0.04450307833805...|    z|false|\n",
      "|  1.3501878997225267|    z|false|\n",
      "|  1.3451017084510097|    z|false|\n",
      "|  1.4786857374358966|    z| true|\n",
      "| 0.12730328020698067|    z|false|\n",
      "+--------------------+-----+-----+\n",
      "\n"
     ]
    }
   ],
   "source": [
    "df.sort(asc('group')).show()"
   ]
  },
  {
   "cell_type": "code",
   "execution_count": 53,
   "id": "bd030693-3efa-4dc0-bcb8-0d2542c7d397",
   "metadata": {},
   "outputs": [
    {
     "name": "stdout",
     "output_type": "stream",
     "text": [
      "+--------------------+-----+-----+\n",
      "|                   n|group|abool|\n",
      "+--------------------+-----+-----+\n",
      "|  1.3451017084510097|    z|false|\n",
      "|  1.3501878997225267|    z|false|\n",
      "|  1.4786857374358966|    z| true|\n",
      "|-0.04450307833805...|    z|false|\n",
      "| 0.12730328020698067|    z|false|\n",
      "|  -0.712390662050588|    z|false|\n",
      "|  0.5323378882945463|    y|false|\n",
      "|  2.1503829673811126|    y| true|\n",
      "|-0.24332625188556253|    y| true|\n",
      "|  0.5628467852810314|    y| true|\n",
      "| 0.45181233874578974|    y|false|\n",
      "| -1.0453771305385342|    y| true|\n",
      "|  -1.261605945319069|    y|false|\n",
      "|  0.9137407048596775|    y|false|\n",
      "|   0.753766378659703|    x|false|\n",
      "|-0.02677164998644...|    x| true|\n",
      "| 0.31735092273633597|    x|false|\n",
      "| -0.7889890249515489|    x|false|\n",
      "|  0.8612113741693206|    x|false|\n",
      "|  0.6062886568962988|    x|false|\n",
      "+--------------------+-----+-----+\n",
      "\n"
     ]
    }
   ],
   "source": [
    "df.sort(desc('group')).show()"
   ]
  },
  {
   "cell_type": "markdown",
   "id": "086201d9-90f1-4212-babe-8718ab6102f2",
   "metadata": {},
   "source": [
    "- Sort by the group value first, then, within each group, sort by n value."
   ]
  },
  {
   "cell_type": "code",
   "execution_count": 54,
   "id": "1a4ffe8e-28a5-4a9a-932b-64c62dc5720b",
   "metadata": {},
   "outputs": [
    {
     "name": "stdout",
     "output_type": "stream",
     "text": [
      "+--------------------+-----+-----+\n",
      "|                   n|group|abool|\n",
      "+--------------------+-----+-----+\n",
      "| -0.7889890249515489|    x|false|\n",
      "|-0.02677164998644...|    x| true|\n",
      "| 0.31735092273633597|    x|false|\n",
      "|  0.6062886568962988|    x|false|\n",
      "|   0.753766378659703|    x|false|\n",
      "|  0.8612113741693206|    x|false|\n",
      "|  -1.261605945319069|    y|false|\n",
      "| -1.0453771305385342|    y| true|\n",
      "|-0.24332625188556253|    y| true|\n",
      "| 0.45181233874578974|    y|false|\n",
      "|  0.5323378882945463|    y|false|\n",
      "|  0.5628467852810314|    y| true|\n",
      "|  0.9137407048596775|    y|false|\n",
      "|  2.1503829673811126|    y| true|\n",
      "|  -0.712390662050588|    z|false|\n",
      "|-0.04450307833805...|    z|false|\n",
      "| 0.12730328020698067|    z|false|\n",
      "|  1.3451017084510097|    z|false|\n",
      "|  1.3501878997225267|    z|false|\n",
      "|  1.4786857374358966|    z| true|\n",
      "+--------------------+-----+-----+\n",
      "\n"
     ]
    }
   ],
   "source": [
    "df.sort('group', 'n').show()"
   ]
  },
  {
   "cell_type": "markdown",
   "id": "804eabdb-28ef-4c4f-a445-36a271cd1a52",
   "metadata": {},
   "source": [
    "- Sort by abool, group, and n. Does it matter in what order you specify the columns when sorting?"
   ]
  },
  {
   "cell_type": "code",
   "execution_count": 55,
   "id": "65b326ae-3765-4fa6-96e2-bee8afbe6540",
   "metadata": {},
   "outputs": [
    {
     "name": "stdout",
     "output_type": "stream",
     "text": [
      "+--------------------+-----+-----+\n",
      "|                   n|group|abool|\n",
      "+--------------------+-----+-----+\n",
      "| -0.7889890249515489|    x|false|\n",
      "| 0.31735092273633597|    x|false|\n",
      "|  0.6062886568962988|    x|false|\n",
      "|   0.753766378659703|    x|false|\n",
      "|  0.8612113741693206|    x|false|\n",
      "|  -1.261605945319069|    y|false|\n",
      "| 0.45181233874578974|    y|false|\n",
      "|  0.5323378882945463|    y|false|\n",
      "|  0.9137407048596775|    y|false|\n",
      "|  -0.712390662050588|    z|false|\n",
      "|-0.04450307833805...|    z|false|\n",
      "| 0.12730328020698067|    z|false|\n",
      "|  1.3451017084510097|    z|false|\n",
      "|  1.3501878997225267|    z|false|\n",
      "|-0.02677164998644...|    x| true|\n",
      "| -1.0453771305385342|    y| true|\n",
      "|-0.24332625188556253|    y| true|\n",
      "|  0.5628467852810314|    y| true|\n",
      "|  2.1503829673811126|    y| true|\n",
      "|  1.4786857374358966|    z| true|\n",
      "+--------------------+-----+-----+\n",
      "\n"
     ]
    }
   ],
   "source": [
    "df.sort('abool', 'group', 'n').show()"
   ]
  },
  {
   "cell_type": "markdown",
   "id": "48914516-021b-424f-90ea-e789afd06b86",
   "metadata": {},
   "source": [
    "Order does matter since it determines the order in which teh columns will be sorted"
   ]
  },
  {
   "cell_type": "markdown",
   "id": "4d9df35a-bcd8-4ac3-bbd1-b29bb97da06d",
   "metadata": {},
   "source": [
    "## 8."
   ]
  },
  {
   "cell_type": "markdown",
   "id": "a39d134c-6b1c-46e4-88e5-b8c0c17cc34a",
   "metadata": {},
   "source": [
    "Spark SQL\n",
    "- Use the starter code above to re-create a spark dataframe.\n",
    "- Turn your dataframe into a table that can be queried with spark SQL. Name the table my_df. Answer the rest of the questions in this section with a spark sql query (spark.sql) against my_df. After each step, view the first 7 records from the dataframe."
   ]
  },
  {
   "cell_type": "code",
   "execution_count": 56,
   "id": "6f311053-ab66-44f0-a056-60cb6078fdfb",
   "metadata": {},
   "outputs": [],
   "source": [
    "df.createOrReplaceTempView('my_df')"
   ]
  },
  {
   "cell_type": "markdown",
   "id": "5ce60fcd-632e-4691-bab7-84a866ba04de",
   "metadata": {},
   "source": [
    "- Write a query that shows all of the columns from your dataframe."
   ]
  },
  {
   "cell_type": "code",
   "execution_count": 57,
   "id": "a9ae2460-0777-48de-b5b6-6dc0d138a577",
   "metadata": {},
   "outputs": [
    {
     "name": "stdout",
     "output_type": "stream",
     "text": [
      "+--------------------+-----+-----+\n",
      "|                   n|group|abool|\n",
      "+--------------------+-----+-----+\n",
      "|  -0.712390662050588|    z|false|\n",
      "|   0.753766378659703|    x|false|\n",
      "|-0.04450307833805...|    z|false|\n",
      "| 0.45181233874578974|    y|false|\n",
      "|  1.3451017084510097|    z|false|\n",
      "|  0.5323378882945463|    y|false|\n",
      "|  1.3501878997225267|    z|false|\n",
      "+--------------------+-----+-----+\n",
      "only showing top 7 rows\n",
      "\n"
     ]
    }
   ],
   "source": [
    "spark.sql('select * from my_df').show(7)"
   ]
  },
  {
   "cell_type": "markdown",
   "id": "bb963e12-2cf9-4f32-afe7-2180108ea99b",
   "metadata": {},
   "source": [
    "- Write a query that shows just the n and abool columns from the dataframe."
   ]
  },
  {
   "cell_type": "code",
   "execution_count": 58,
   "id": "543fea22-b283-42cf-9b34-067eb770bc35",
   "metadata": {},
   "outputs": [
    {
     "name": "stdout",
     "output_type": "stream",
     "text": [
      "+--------------------+-----+\n",
      "|                   n|abool|\n",
      "+--------------------+-----+\n",
      "|  -0.712390662050588|false|\n",
      "|   0.753766378659703|false|\n",
      "|-0.04450307833805...|false|\n",
      "| 0.45181233874578974|false|\n",
      "|  1.3451017084510097|false|\n",
      "|  0.5323378882945463|false|\n",
      "|  1.3501878997225267|false|\n",
      "+--------------------+-----+\n",
      "only showing top 7 rows\n",
      "\n"
     ]
    }
   ],
   "source": [
    "spark.sql('''\n",
    "SELECT n, abool\n",
    "FROM my_df\n",
    "''').show(7)"
   ]
  },
  {
   "cell_type": "markdown",
   "id": "aef51d08-225c-4eb8-86ed-b7aa1330ef38",
   "metadata": {},
   "source": [
    "- Write a query that shows just the n and group columns. Rename the group column to g."
   ]
  },
  {
   "cell_type": "code",
   "execution_count": 59,
   "id": "0bcc4234-0f19-4ae5-bd3a-877b699b8888",
   "metadata": {},
   "outputs": [
    {
     "name": "stdout",
     "output_type": "stream",
     "text": [
      "+--------------------+---+\n",
      "|                   n|  g|\n",
      "+--------------------+---+\n",
      "|  -0.712390662050588|  z|\n",
      "|   0.753766378659703|  x|\n",
      "|-0.04450307833805...|  z|\n",
      "| 0.45181233874578974|  y|\n",
      "|  1.3451017084510097|  z|\n",
      "|  0.5323378882945463|  y|\n",
      "|  1.3501878997225267|  z|\n",
      "+--------------------+---+\n",
      "only showing top 7 rows\n",
      "\n"
     ]
    }
   ],
   "source": [
    "spark.sql('''\n",
    "SELECT\n",
    "    n,\n",
    "    group AS g\n",
    "FROM my_df\n",
    "''').show(7)"
   ]
  },
  {
   "cell_type": "markdown",
   "id": "5771d11d-748b-4406-8363-3c13806fe10a",
   "metadata": {},
   "source": [
    "- Write a query that selects n, and creates two new columns: n2, the original n values halved, and n3: the original n values minus 1."
   ]
  },
  {
   "cell_type": "code",
   "execution_count": 60,
   "id": "db08c877-51e4-4f3d-80ca-c81ef1390efc",
   "metadata": {},
   "outputs": [
    {
     "name": "stdout",
     "output_type": "stream",
     "text": [
      "+--------------------+--------------------+-------------------+\n",
      "|                   n|                  n2|                 n3|\n",
      "+--------------------+--------------------+-------------------+\n",
      "|  -0.712390662050588|  -0.356195331025294|-3.7123906620505878|\n",
      "|   0.753766378659703|  0.3768831893298515| -2.246233621340297|\n",
      "|-0.04450307833805...|-0.02225153916902...|-3.0445030783380536|\n",
      "| 0.45181233874578974| 0.22590616937289487|  -2.54818766125421|\n",
      "|  1.3451017084510097|  0.6725508542255049|-1.6548982915489903|\n",
      "|  0.5323378882945463| 0.26616894414727316|-2.4676621117054536|\n",
      "|  1.3501878997225267|  0.6750939498612634|-1.6498121002774733|\n",
      "+--------------------+--------------------+-------------------+\n",
      "only showing top 7 rows\n",
      "\n"
     ]
    }
   ],
   "source": [
    "spark.sql('''\n",
    "SELECT\n",
    "    n,\n",
    "    n / 2 AS n2,\n",
    "    n - 3 AS n3\n",
    "FROM my_df\n",
    "''').show(7)"
   ]
  },
  {
   "cell_type": "markdown",
   "id": "663229dc-5abf-4056-9976-87d27f4669a9",
   "metadata": {},
   "source": [
    "- What happens if you make a SQL syntax error in your query?"
   ]
  },
  {
   "cell_type": "code",
   "execution_count": 61,
   "id": "a605dbdb-f30a-4e9e-ac11-09057ee4a6d3",
   "metadata": {},
   "outputs": [],
   "source": [
    "# spark.sql('''\n",
    "# SELECT\n",
    "#     n,\n",
    "#     n / 2 AS n2,\n",
    "#     n - 3 AS n3,\n",
    "# FROM my_df\n",
    "# ''').show(7)"
   ]
  },
  {
   "cell_type": "markdown",
   "id": "8ccda639-63b4-48f7-b20e-a6f1932d2974",
   "metadata": {},
   "source": [
    "Throws an error"
   ]
  },
  {
   "cell_type": "markdown",
   "id": "b6510a9e-5de4-4db5-9d76-19b92ca14a84",
   "metadata": {},
   "source": [
    "## 9."
   ]
  },
  {
   "cell_type": "markdown",
   "id": "1e7fbe56-e9b8-4873-ad76-40359395b81e",
   "metadata": {},
   "source": [
    "Aggregating\n",
    "- What is the average n value for each group in the group column?"
   ]
  },
  {
   "cell_type": "code",
   "execution_count": 62,
   "id": "ebb2558a-ad9f-464c-a671-9812cf0b7956",
   "metadata": {},
   "outputs": [
    {
     "name": "stdout",
     "output_type": "stream",
     "text": [
      "+-----+-------------------+\n",
      "|group|       mean_n_value|\n",
      "+-----+-------------------+\n",
      "|    x|0.28714277625394485|\n",
      "|    z|  0.590730814237962|\n",
      "|    y| 0.2576014196023739|\n",
      "+-----+-------------------+\n",
      "\n"
     ]
    }
   ],
   "source": [
    "df.groupBy('group').agg(mean('n').alias('mean_n_value')).show()"
   ]
  },
  {
   "cell_type": "markdown",
   "id": "7a3b6623-7efc-4559-82bb-32d080cd991f",
   "metadata": {},
   "source": [
    "- What is the maximum n value for each group in the group column?"
   ]
  },
  {
   "cell_type": "code",
   "execution_count": 63,
   "id": "dac565c7-5b7c-48a6-92e6-2ec4cf9e0d86",
   "metadata": {},
   "outputs": [
    {
     "name": "stdout",
     "output_type": "stream",
     "text": [
      "+-----+------------------+\n",
      "|group|       max_n_value|\n",
      "+-----+------------------+\n",
      "|    x|0.8612113741693206|\n",
      "|    z|1.4786857374358966|\n",
      "|    y|2.1503829673811126|\n",
      "+-----+------------------+\n",
      "\n"
     ]
    }
   ],
   "source": [
    "df.groupBy('group').agg(max('n').alias('max_n_value')).show()"
   ]
  },
  {
   "cell_type": "markdown",
   "id": "a21d77e1-1987-4b77-87ab-55e0dbdba8ca",
   "metadata": {},
   "source": [
    "- What is the minimum n value by abool?"
   ]
  },
  {
   "cell_type": "code",
   "execution_count": 64,
   "id": "3cd20010-62f2-4821-bb78-a3e9fbbdcab8",
   "metadata": {},
   "outputs": [
    {
     "name": "stdout",
     "output_type": "stream",
     "text": [
      "+-----+-------------------+\n",
      "|abool|        min_n_value|\n",
      "+-----+-------------------+\n",
      "|false| -1.261605945319069|\n",
      "| true|-1.0453771305385342|\n",
      "+-----+-------------------+\n",
      "\n"
     ]
    }
   ],
   "source": [
    "df.groupBy('abool').agg(min('n').alias('min_n_value')).show()"
   ]
  },
  {
   "cell_type": "markdown",
   "id": "fa763e43-5f6a-4225-b9ce-8ee323e50e13",
   "metadata": {},
   "source": [
    "- What is the average n value for each unique combination of the group and abool column?"
   ]
  },
  {
   "cell_type": "code",
   "execution_count": 65,
   "id": "d0d3ff7d-1ae8-4377-a2c6-c67cc95479e1",
   "metadata": {},
   "outputs": [
    {
     "name": "stdout",
     "output_type": "stream",
     "text": [
      "+-----+-----+--------------------+\n",
      "|group|abool|        mean_n_value|\n",
      "+-----+-----+--------------------+\n",
      "|    z|false| 0.41313982959837514|\n",
      "|    y|false| 0.15907124664523611|\n",
      "|    x|false|   0.349925661502022|\n",
      "|    y| true| 0.35613159255951177|\n",
      "|    z| true|  1.4786857374358966|\n",
      "|    x| true|-0.02677164998644...|\n",
      "+-----+-----+--------------------+\n",
      "\n"
     ]
    }
   ],
   "source": [
    "df.groupBy('group', 'abool').agg(mean('n').alias('mean_n_value')).show()"
   ]
  }
 ],
 "metadata": {
  "kernelspec": {
   "display_name": "Python 3",
   "language": "python",
   "name": "python3"
  },
  "language_info": {
   "codemirror_mode": {
    "name": "ipython",
    "version": 3
   },
   "file_extension": ".py",
   "mimetype": "text/x-python",
   "name": "python",
   "nbconvert_exporter": "python",
   "pygments_lexer": "ipython3",
   "version": "3.8.8"
  }
 },
 "nbformat": 4,
 "nbformat_minor": 5
}
