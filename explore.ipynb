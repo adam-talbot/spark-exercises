{
 "cells": [
  {
   "cell_type": "markdown",
   "id": "8a5bb7dc-fd90-40ce-be02-cbf2d513d396",
   "metadata": {},
   "source": [
    "---\n",
    "# Spark Exploration Exercises\n",
    "---"
   ]
  },
  {
   "cell_type": "code",
   "execution_count": null,
   "id": "0fde08fa-b825-4592-9e95-632851134c9e",
   "metadata": {},
   "outputs": [],
   "source": [
    "import pyspark\n",
    "from pyspark.sql.functions import *\n",
    "import wrangle\n",
    "import pandas as pd\n",
    "import matplotlib as mpl\n",
    "import matplotlib.pyplot as plt\n",
    "import seaborn as sns\n",
    "\n",
    "plt.ion()\n",
    "# tweak the matplotlib style defaults\n",
    "plt.rc(\"figure\", figsize=(13, 7))\n",
    "plt.rc(\"font\", size=14)\n",
    "plt.style.use(\"ggplot\")"
   ]
  },
  {
   "cell_type": "markdown",
   "id": "6f1bc02d-089d-477e-924e-725b92fa7156",
   "metadata": {},
   "source": [
    "## 1."
   ]
  },
  {
   "cell_type": "markdown",
   "id": "ce6ec544-f913-4277-8071-37d6adc08b57",
   "metadata": {},
   "source": [
    "How many different cases are there, by department?"
   ]
  },
  {
   "cell_type": "markdown",
   "id": "acba2d89-aece-4b04-855e-9bb5f18deb6b",
   "metadata": {},
   "source": [
    "## 2."
   ]
  },
  {
   "cell_type": "markdown",
   "id": "8a7cf743-eca7-4ed1-8ab8-4a0acda714fa",
   "metadata": {},
   "source": [
    "Does the percentage of cases that are late vary by department?"
   ]
  },
  {
   "cell_type": "markdown",
   "id": "92a74eeb-ddf4-4624-a280-f635b8f344cc",
   "metadata": {},
   "source": [
    "## 3."
   ]
  },
  {
   "cell_type": "markdown",
   "id": "b04d7fa6-932f-4bf3-9b3a-f909821d5e9f",
   "metadata": {},
   "source": [
    "On average, how late are the late cases by department?"
   ]
  },
  {
   "cell_type": "markdown",
   "id": "1ff05714-214f-4573-8fce-f7994dfddc4f",
   "metadata": {},
   "source": [
    "## 4."
   ]
  },
  {
   "cell_type": "markdown",
   "id": "39750ce4-42c0-4950-a83e-3e43e9ae8b00",
   "metadata": {},
   "source": [
    "What is the service type that is the most late? Just for Parks & Rec?"
   ]
  },
  {
   "cell_type": "markdown",
   "id": "829c268d-81d9-470d-bafc-2292a5a9680d",
   "metadata": {},
   "source": [
    "## 5."
   ]
  },
  {
   "cell_type": "markdown",
   "id": "6aab5067-6faa-473b-b01a-ed56d82e0175",
   "metadata": {},
   "source": [
    "For the DSD/Code Enforcement department, what are the most common service request types? Look at other departments too."
   ]
  },
  {
   "cell_type": "markdown",
   "id": "72e93523-49ee-4de5-9cb5-7a9685c98163",
   "metadata": {},
   "source": [
    "## 6."
   ]
  },
  {
   "cell_type": "markdown",
   "id": "5cc686cd-f056-4784-bed2-ac9f8fae80e3",
   "metadata": {},
   "source": [
    "Does whether or not its a weekend matter for when a case is opened/closed?"
   ]
  },
  {
   "cell_type": "markdown",
   "id": "b7e61632-bf36-445d-8138-5aa4b7aed01c",
   "metadata": {},
   "source": [
    "## 7."
   ]
  },
  {
   "cell_type": "markdown",
   "id": "3f6de2ec-2640-45bc-be06-e9ab3bff9a09",
   "metadata": {},
   "source": [
    "On average, how many cases are opened a day for the Customer Service department?"
   ]
  },
  {
   "cell_type": "markdown",
   "id": "b25a1be5-9989-4186-87c7-1f3d581782a1",
   "metadata": {},
   "source": [
    "## 8."
   ]
  },
  {
   "cell_type": "markdown",
   "id": "296dcc82-06c8-4f44-a843-881b538c919d",
   "metadata": {},
   "source": [
    "Does the number of service requests for the solid waste department vary by day of the week?"
   ]
  },
  {
   "cell_type": "code",
   "execution_count": null,
   "id": "a0e5136e-1967-481f-8946-1b163e3c3a77",
   "metadata": {},
   "outputs": [],
   "source": []
  }
 ],
 "metadata": {
  "kernelspec": {
   "display_name": "Python 3",
   "language": "python",
   "name": "python3"
  },
  "language_info": {
   "codemirror_mode": {
    "name": "ipython",
    "version": 3
   },
   "file_extension": ".py",
   "mimetype": "text/x-python",
   "name": "python",
   "nbconvert_exporter": "python",
   "pygments_lexer": "ipython3",
   "version": "3.8.8"
  }
 },
 "nbformat": 4,
 "nbformat_minor": 5
}
