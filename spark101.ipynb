{
 "cells": [
  {
   "cell_type": "markdown",
   "id": "efd1c743-303c-41ab-868a-8e2ff6f2ee8a",
   "metadata": {},
   "source": [
    "---\n",
    "# Spark API Exercises\n",
    "---"
   ]
  },
  {
   "cell_type": "code",
   "execution_count": 1,
   "id": "da363161-051f-468a-b80a-61cb063e3810",
   "metadata": {},
   "outputs": [],
   "source": [
    "import pandas as pd\n",
    "import numpy as np\n",
    "import pyspark\n",
    "spark = pyspark.sql.SparkSession.builder.getOrCreate()\n",
    "from pyspark.sql.functions import *\n",
    "# import pyspark.sql.functions as F"
   ]
  },
  {
   "cell_type": "markdown",
   "id": "c3c8d22a-fea8-43be-80e2-202e281b089f",
   "metadata": {},
   "source": [
    "## 1."
   ]
  },
  {
   "cell_type": "markdown",
   "id": "0facd593-8e0f-49bd-a939-ee77442aa050",
   "metadata": {},
   "source": [
    "Create a spark data frame that contains your favorite programming languages.\n",
    "- The name of the column should be language"
   ]
  },
  {
   "cell_type": "code",
   "execution_count": 2,
   "id": "a2244a71-be40-4481-8b5d-f922eceda345",
   "metadata": {},
   "outputs": [],
   "source": [
    "pandas_df = pd.DataFrame({'language' : ['Python', 'SQL']})"
   ]
  },
  {
   "cell_type": "code",
   "execution_count": 3,
   "id": "090ef2d3-d898-4bf5-baab-79fcf5274e7c",
   "metadata": {},
   "outputs": [],
   "source": [
    "df = spark.createDataFrame(pandas_df)"
   ]
  },
  {
   "cell_type": "markdown",
   "id": "7685ed3f-6f35-44be-b596-2311fc1b63ec",
   "metadata": {},
   "source": [
    "- View the schema of the dataframe"
   ]
  },
  {
   "cell_type": "code",
   "execution_count": 4,
   "id": "63322c98-8d67-4e56-a2da-a4e2fb65fd97",
   "metadata": {},
   "outputs": [
    {
     "name": "stdout",
     "output_type": "stream",
     "text": [
      "root\n",
      " |-- language: string (nullable = true)\n",
      "\n"
     ]
    }
   ],
   "source": [
    "df.printSchema()"
   ]
  },
  {
   "cell_type": "markdown",
   "id": "fd1fdb15-e9cc-49a0-9cc3-d7af664c41a3",
   "metadata": {},
   "source": [
    "- Output the shape of the dataframe"
   ]
  },
  {
   "cell_type": "code",
   "execution_count": 5,
   "id": "7861545c-1f4d-4071-b636-8bfd0009ca6d",
   "metadata": {},
   "outputs": [
    {
     "data": {
      "text/plain": [
       "(2, 1)"
      ]
     },
     "execution_count": 5,
     "metadata": {},
     "output_type": "execute_result"
    }
   ],
   "source": [
    "pandas_df.shape"
   ]
  },
  {
   "cell_type": "code",
   "execution_count": 6,
   "id": "503e3719-453b-4c28-8db7-55782af0b661",
   "metadata": {},
   "outputs": [
    {
     "data": {
      "text/plain": [
       "(2, 1)"
      ]
     },
     "execution_count": 6,
     "metadata": {},
     "output_type": "execute_result"
    }
   ],
   "source": [
    "df.count(), len(df.columns)"
   ]
  },
  {
   "cell_type": "markdown",
   "id": "c6db6ea8-8ad6-4dfa-9e31-d676ee3834fc",
   "metadata": {},
   "source": [
    "- Show the first 5 records in the dataframe"
   ]
  },
  {
   "cell_type": "code",
   "execution_count": 7,
   "id": "ee84f0b3-0a3a-420a-8002-46f684336be5",
   "metadata": {},
   "outputs": [
    {
     "name": "stdout",
     "output_type": "stream",
     "text": [
      "+--------+\n",
      "|language|\n",
      "+--------+\n",
      "|  Python|\n",
      "|     SQL|\n",
      "+--------+\n",
      "\n"
     ]
    }
   ],
   "source": [
    "df.show(5)"
   ]
  },
  {
   "cell_type": "markdown",
   "id": "de5b5cca-065b-4714-942e-c83e06a10275",
   "metadata": {},
   "source": [
    "## 2."
   ]
  },
  {
   "cell_type": "markdown",
   "id": "3b9a3a92-8a0f-4b76-b4b5-ec1c3dfd5900",
   "metadata": {},
   "source": [
    "Load the mpg dataset as a spark dataframe."
   ]
  },
  {
   "cell_type": "code",
   "execution_count": 8,
   "id": "45449c39-1d7d-4d93-b7fe-7d54385c9eef",
   "metadata": {},
   "outputs": [],
   "source": [
    "from pydataset import data"
   ]
  },
  {
   "cell_type": "code",
   "execution_count": 9,
   "id": "8f6884c9-f987-499a-955d-e878635d19ab",
   "metadata": {},
   "outputs": [],
   "source": [
    "mpg_pandas = data('mpg')"
   ]
  },
  {
   "cell_type": "code",
   "execution_count": 10,
   "id": "46e23d0e-6469-42c9-90e7-01d33ca5114a",
   "metadata": {},
   "outputs": [],
   "source": [
    "mpg = spark.createDataFrame(mpg_pandas)"
   ]
  },
  {
   "cell_type": "markdown",
   "id": "01ea0821-e0e2-4c1b-880e-9ce389f9bfd6",
   "metadata": {},
   "source": [
    "- Create 1 column of output that contains a message like the one below for each vehicle:\n",
    "    - `The 1999 audi a4 has a 4 cylinder engine.`"
   ]
  },
  {
   "cell_type": "code",
   "execution_count": 11,
   "id": "760bd0a6-878c-49e2-820f-1732645b51fb",
   "metadata": {},
   "outputs": [
    {
     "name": "stdout",
     "output_type": "stream",
     "text": [
      "+------------+-----+-----+----+---+----------+---+---+---+---+-------+\n",
      "|manufacturer|model|displ|year|cyl|     trans|drv|cty|hwy| fl|  class|\n",
      "+------------+-----+-----+----+---+----------+---+---+---+---+-------+\n",
      "|        audi|   a4|  1.8|1999|  4|  auto(l5)|  f| 18| 29|  p|compact|\n",
      "|        audi|   a4|  1.8|1999|  4|manual(m5)|  f| 21| 29|  p|compact|\n",
      "+------------+-----+-----+----+---+----------+---+---+---+---+-------+\n",
      "only showing top 2 rows\n",
      "\n"
     ]
    }
   ],
   "source": [
    "mpg.show(2)"
   ]
  },
  {
   "cell_type": "code",
   "execution_count": 12,
   "id": "5c2cf47b-2f99-4007-a8ac-9674e912e97c",
   "metadata": {},
   "outputs": [
    {
     "name": "stdout",
     "output_type": "stream",
     "text": [
      "+--------------------------------------------------------------------+\n",
      "|concat(The , year,  , manufacturer,  has a , cyl,  cylinder engine.)|\n",
      "+--------------------------------------------------------------------+\n",
      "|The 1999 audi has a 4 cylinder engine.                              |\n",
      "|The 1999 audi has a 4 cylinder engine.                              |\n",
      "|The 2008 audi has a 4 cylinder engine.                              |\n",
      "|The 2008 audi has a 4 cylinder engine.                              |\n",
      "|The 1999 audi has a 6 cylinder engine.                              |\n",
      "+--------------------------------------------------------------------+\n",
      "only showing top 5 rows\n",
      "\n"
     ]
    }
   ],
   "source": [
    "mpg.select(concat(lit('The '), 'year', lit(' '), 'manufacturer', lit(' has a '), 'cyl', lit(' cylinder engine.'))).show(5, truncate=False)"
   ]
  },
  {
   "cell_type": "markdown",
   "id": "4706636b-7db5-4bc3-9f98-319b00ac7ef5",
   "metadata": {},
   "source": [
    "- Transform the trans column so that it only contains either manual or auto."
   ]
  },
  {
   "cell_type": "code",
   "execution_count": 13,
   "id": "9b06f6fa-441a-4f8d-962b-32fc7ad2a20d",
   "metadata": {},
   "outputs": [
    {
     "name": "stdout",
     "output_type": "stream",
     "text": [
      "+----------+\n",
      "|trans_type|\n",
      "+----------+\n",
      "|      auto|\n",
      "|    manual|\n",
      "|    manual|\n",
      "|      auto|\n",
      "|      auto|\n",
      "|    manual|\n",
      "|      auto|\n",
      "|    manual|\n",
      "|      auto|\n",
      "|    manual|\n",
      "|      auto|\n",
      "|      auto|\n",
      "|    manual|\n",
      "|      auto|\n",
      "|    manual|\n",
      "|      auto|\n",
      "|      auto|\n",
      "|      auto|\n",
      "|      auto|\n",
      "|      auto|\n",
      "+----------+\n",
      "only showing top 20 rows\n",
      "\n"
     ]
    }
   ],
   "source": [
    "mpg.select(regexp_extract('trans', r\"^(\\w+?)\\(\", 1).alias('trans_type')).show()"
   ]
  },
  {
   "cell_type": "markdown",
   "id": "5eac1d87-cf82-41c4-ae71-001e807c8d55",
   "metadata": {},
   "source": [
    "## 3."
   ]
  },
  {
   "cell_type": "markdown",
   "id": "20f865de-0f0b-4b0e-9518-a4ff033a1c66",
   "metadata": {},
   "source": [
    "Load the tips dataset as a spark dataframe."
   ]
  },
  {
   "cell_type": "code",
   "execution_count": 14,
   "id": "937d2042-25ec-4fcf-adc0-f54ef2d17a5b",
   "metadata": {},
   "outputs": [],
   "source": [
    "tips_pandas = data('tips')"
   ]
  },
  {
   "cell_type": "code",
   "execution_count": 15,
   "id": "1ffaecf1-6f82-4dca-8339-0c8af856c820",
   "metadata": {},
   "outputs": [],
   "source": [
    "tips = spark.createDataFrame(tips_pandas)"
   ]
  },
  {
   "cell_type": "code",
   "execution_count": 16,
   "id": "790c3985-6e74-4530-a008-5c7bc84da645",
   "metadata": {},
   "outputs": [
    {
     "name": "stdout",
     "output_type": "stream",
     "text": [
      "+----------+----+------+------+---+------+----+\n",
      "|total_bill| tip|   sex|smoker|day|  time|size|\n",
      "+----------+----+------+------+---+------+----+\n",
      "|     16.99|1.01|Female|    No|Sun|Dinner|   2|\n",
      "|     10.34|1.66|  Male|    No|Sun|Dinner|   3|\n",
      "+----------+----+------+------+---+------+----+\n",
      "only showing top 2 rows\n",
      "\n"
     ]
    }
   ],
   "source": [
    "tips.show(2)"
   ]
  },
  {
   "cell_type": "markdown",
   "id": "e43ef54b-8cd6-4569-8f30-69f5fea989aa",
   "metadata": {},
   "source": [
    "- What percentage of observations are smokers?"
   ]
  },
  {
   "cell_type": "code",
   "execution_count": 17,
   "id": "11202925-a346-48f3-8d5a-bed4cf5ef5ca",
   "metadata": {},
   "outputs": [
    {
     "name": "stdout",
     "output_type": "stream",
     "text": [
      "+------+-----+\n",
      "|smoker|count|\n",
      "+------+-----+\n",
      "|    No|  151|\n",
      "|   Yes|   93|\n",
      "+------+-----+\n",
      "\n"
     ]
    }
   ],
   "source": [
    "tips.groupBy('smoker').count().show()"
   ]
  },
  {
   "cell_type": "code",
   "execution_count": 18,
   "id": "08040dc8-9015-4247-a564-abd869f8a665",
   "metadata": {},
   "outputs": [
    {
     "name": "stdout",
     "output_type": "stream",
     "text": [
      "+------+-----+\n",
      "|smoker|count|\n",
      "+------+-----+\n",
      "|   Yes|   93|\n",
      "|    No|  151|\n",
      "|  null|  244|\n",
      "+------+-----+\n",
      "\n"
     ]
    }
   ],
   "source": [
    "tips.rollup('smoker').count().show()"
   ]
  },
  {
   "cell_type": "code",
   "execution_count": 19,
   "id": "f8a109b0-c181-4f85-b11e-0bfee328e3c8",
   "metadata": {},
   "outputs": [
    {
     "data": {
      "text/plain": [
       "38.114754098360656"
      ]
     },
     "execution_count": 19,
     "metadata": {},
     "output_type": "execute_result"
    }
   ],
   "source": [
    "(tips.filter(col('smoker') == 'Yes').count() / (tips.count())) * 100"
   ]
  },
  {
   "cell_type": "markdown",
   "id": "868ef1a1-e97a-4de9-9834-6f6b43f79d09",
   "metadata": {},
   "source": [
    "- Create a column that contains the tip percentage"
   ]
  },
  {
   "cell_type": "code",
   "execution_count": 20,
   "id": "03eeffef-7924-4793-ba82-4848e1e27f50",
   "metadata": {},
   "outputs": [
    {
     "name": "stdout",
     "output_type": "stream",
     "text": [
      "+----------+----+------+------+---+------+----+-------------------+\n",
      "|total_bill| tip|   sex|smoker|day|  time|size|     tip_percentage|\n",
      "+----------+----+------+------+---+------+----+-------------------+\n",
      "|     16.99|1.01|Female|    No|Sun|Dinner|   2|0.05944673337257211|\n",
      "|     10.34|1.66|  Male|    No|Sun|Dinner|   3|0.16054158607350097|\n",
      "|     21.01| 3.5|  Male|    No|Sun|Dinner|   3|0.16658733936220846|\n",
      "|     23.68|3.31|  Male|    No|Sun|Dinner|   2| 0.1397804054054054|\n",
      "|     24.59|3.61|Female|    No|Sun|Dinner|   4|0.14680764538430255|\n",
      "|     25.29|4.71|  Male|    No|Sun|Dinner|   4|0.18623962040332148|\n",
      "|      8.77| 2.0|  Male|    No|Sun|Dinner|   2|0.22805017103762829|\n",
      "|     26.88|3.12|  Male|    No|Sun|Dinner|   4|0.11607142857142858|\n",
      "|     15.04|1.96|  Male|    No|Sun|Dinner|   2|0.13031914893617022|\n",
      "|     14.78|3.23|  Male|    No|Sun|Dinner|   2| 0.2185385656292287|\n",
      "|     10.27|1.71|  Male|    No|Sun|Dinner|   2| 0.1665043816942551|\n",
      "|     35.26| 5.0|Female|    No|Sun|Dinner|   4|0.14180374361883155|\n",
      "|     15.42|1.57|  Male|    No|Sun|Dinner|   2|0.10181582360570687|\n",
      "|     18.43| 3.0|  Male|    No|Sun|Dinner|   4|0.16277807921866522|\n",
      "|     14.83|3.02|Female|    No|Sun|Dinner|   2|0.20364126770060686|\n",
      "|     21.58|3.92|  Male|    No|Sun|Dinner|   2|0.18164967562557924|\n",
      "|     10.33|1.67|Female|    No|Sun|Dinner|   3| 0.1616650532429816|\n",
      "|     16.29|3.71|  Male|    No|Sun|Dinner|   3|0.22774708410067526|\n",
      "|     16.97| 3.5|Female|    No|Sun|Dinner|   3|0.20624631703005306|\n",
      "|     20.65|3.35|  Male|    No|Sat|Dinner|   3|0.16222760290556903|\n",
      "+----------+----+------+------+---+------+----+-------------------+\n",
      "only showing top 20 rows\n",
      "\n"
     ]
    }
   ],
   "source": [
    "tips.withColumn('tip_percentage', tips.tip / tips.total_bill).show()"
   ]
  },
  {
   "cell_type": "markdown",
   "id": "b9517093-5fdc-4d25-a1ca-61a6cd941aed",
   "metadata": {},
   "source": [
    "- Calculate the average tip percentage for each combination of sex and smoker."
   ]
  },
  {
   "cell_type": "code",
   "execution_count": 21,
   "id": "a67761b3-dae6-401a-b39e-3343eb0ab1ab",
   "metadata": {},
   "outputs": [
    {
     "name": "stdout",
     "output_type": "stream",
     "text": [
      "+------+------+-------------------+\n",
      "|   sex|smoker|mean_tip_percentage|\n",
      "+------+------+-------------------+\n",
      "|  Male|    No| 0.1606687151291298|\n",
      "|  Male|   Yes| 0.1527711752024851|\n",
      "|Female|    No| 0.1569209707691836|\n",
      "|Female|   Yes|0.18215035269941035|\n",
      "+------+------+-------------------+\n",
      "\n"
     ]
    }
   ],
   "source": [
    "(\n",
    "    tips.withColumn('tip_percentage', tips.tip / tips.total_bill)\n",
    "    .groupBy('sex', 'smoker')\n",
    "    .agg(mean(col('tip_percentage')).alias('mean_tip_percentage'))\n",
    "    .show()\n",
    ")"
   ]
  },
  {
   "cell_type": "markdown",
   "id": "9bbc1c22-753e-4253-bc8c-cdf9a19333b5",
   "metadata": {},
   "source": [
    "## 4."
   ]
  },
  {
   "cell_type": "markdown",
   "id": "447e94bb-d2eb-4509-b5ae-622b0fed17a0",
   "metadata": {},
   "source": [
    "Use the seattle weather dataset referenced in the lesson to answer the questions below."
   ]
  },
  {
   "cell_type": "code",
   "execution_count": 22,
   "id": "8045ba10-4225-40a0-8e77-400a375fcef5",
   "metadata": {},
   "outputs": [
    {
     "name": "stdout",
     "output_type": "stream",
     "text": [
      "+----------+-------------+--------+--------+----+-------+\n",
      "|      date|precipitation|temp_max|temp_min|wind|weather|\n",
      "+----------+-------------+--------+--------+----+-------+\n",
      "|2012-01-01|          0.0|    12.8|     5.0| 4.7|drizzle|\n",
      "|2012-01-02|         10.9|    10.6|     2.8| 4.5|   rain|\n",
      "|2012-01-03|          0.8|    11.7|     7.2| 2.3|   rain|\n",
      "|2012-01-04|         20.3|    12.2|     5.6| 4.7|   rain|\n",
      "|2012-01-05|          1.3|     8.9|     2.8| 6.1|   rain|\n",
      "|2012-01-06|          2.5|     4.4|     2.2| 2.2|   rain|\n",
      "+----------+-------------+--------+--------+----+-------+\n",
      "only showing top 6 rows\n",
      "\n"
     ]
    }
   ],
   "source": [
    "from vega_datasets import data\n",
    "\n",
    "weather = data.seattle_weather().assign(date=lambda df: df.date.astype(str))\n",
    "weather = spark.createDataFrame(weather)\n",
    "weather.show(6)"
   ]
  },
  {
   "cell_type": "markdown",
   "id": "03f93b1e-9973-4cc0-bed2-4fe47222a38c",
   "metadata": {},
   "source": [
    "- Convert the temperatures to fahrenheit."
   ]
  },
  {
   "cell_type": "code",
   "execution_count": 23,
   "id": "e282f1aa-992a-4da7-88a2-cf766bf01268",
   "metadata": {},
   "outputs": [],
   "source": [
    "def T_to_F(temp):\n",
    "    return (temp * (9/5) + 32)"
   ]
  },
  {
   "cell_type": "code",
   "execution_count": 24,
   "id": "305f27bf-d71d-44d3-aa13-d966b2124a61",
   "metadata": {},
   "outputs": [
    {
     "name": "stdout",
     "output_type": "stream",
     "text": [
      "+----------+-------------+--------+--------+----+-------+------------------+------------------+\n",
      "|      date|precipitation|temp_max|temp_min|wind|weather|        temp_max_F|        temp_min_F|\n",
      "+----------+-------------+--------+--------+----+-------+------------------+------------------+\n",
      "|2012-01-01|          0.0|    12.8|     5.0| 4.7|drizzle|55.040000000000006|              41.0|\n",
      "|2012-01-02|         10.9|    10.6|     2.8| 4.5|   rain|             51.08|             37.04|\n",
      "|2012-01-03|          0.8|    11.7|     7.2| 2.3|   rain|             53.06|             44.96|\n",
      "|2012-01-04|         20.3|    12.2|     5.6| 4.7|   rain|             53.96|             42.08|\n",
      "|2012-01-05|          1.3|     8.9|     2.8| 6.1|   rain|48.019999999999996|             37.04|\n",
      "|2012-01-06|          2.5|     4.4|     2.2| 2.2|   rain|             39.92|             35.96|\n",
      "|2012-01-07|          0.0|     7.2|     2.8| 2.3|   rain|             44.96|             37.04|\n",
      "|2012-01-08|          0.0|    10.0|     2.8| 2.0|    sun|              50.0|             37.04|\n",
      "|2012-01-09|          4.3|     9.4|     5.0| 3.4|   rain|             48.92|              41.0|\n",
      "|2012-01-10|          1.0|     6.1|     0.6| 3.4|   rain|42.980000000000004|             33.08|\n",
      "|2012-01-11|          0.0|     6.1|    -1.1| 5.1|    sun|42.980000000000004|             30.02|\n",
      "|2012-01-12|          0.0|     6.1|    -1.7| 1.9|    sun|42.980000000000004|             28.94|\n",
      "|2012-01-13|          0.0|     5.0|    -2.8| 1.3|    sun|              41.0|             26.96|\n",
      "|2012-01-14|          4.1|     4.4|     0.6| 5.3|   snow|             39.92|             33.08|\n",
      "|2012-01-15|          5.3|     1.1|    -3.3| 3.2|   snow|             33.98|26.060000000000002|\n",
      "|2012-01-16|          2.5|     1.7|    -2.8| 5.0|   snow|             35.06|             26.96|\n",
      "|2012-01-17|          8.1|     3.3|     0.0| 5.6|   snow|             37.94|              32.0|\n",
      "|2012-01-18|         19.8|     0.0|    -2.8| 5.0|   snow|              32.0|             26.96|\n",
      "|2012-01-19|         15.2|    -1.1|    -2.8| 1.6|   snow|             30.02|             26.96|\n",
      "|2012-01-20|         13.5|     7.2|    -1.1| 2.3|   snow|             44.96|             30.02|\n",
      "+----------+-------------+--------+--------+----+-------+------------------+------------------+\n",
      "only showing top 20 rows\n",
      "\n"
     ]
    }
   ],
   "source": [
    "(\n",
    "    weather.withColumn('temp_max_F', T_to_F(weather.temp_max))\n",
    "    .withColumn('temp_min_F', T_to_F(weather.temp_min))\n",
    "    .show()\n",
    ")"
   ]
  },
  {
   "cell_type": "markdown",
   "id": "17958372-ac97-4c66-a165-b2c60bdd171b",
   "metadata": {},
   "source": [
    "- Which month has the most rain, on average?"
   ]
  },
  {
   "cell_type": "code",
   "execution_count": 25,
   "id": "36009f4a-fb71-4a69-a2d7-f10e9827e8c5",
   "metadata": {},
   "outputs": [
    {
     "name": "stdout",
     "output_type": "stream",
     "text": [
      "+-----+-------------------+\n",
      "|month| mean_precipitation|\n",
      "+-----+-------------------+\n",
      "|   11|  5.354166666666667|\n",
      "|   12|  5.021774193548388|\n",
      "|    3|  4.888709677419355|\n",
      "|   10|  4.059677419354839|\n",
      "|    1| 3.7580645161290316|\n",
      "|    2|  3.734513274336283|\n",
      "|    4|  3.128333333333333|\n",
      "|    9| 1.9624999999999997|\n",
      "|    5| 1.6733870967741935|\n",
      "|    8| 1.3201612903225806|\n",
      "|    6| 1.1075000000000002|\n",
      "|    7|0.38870967741935486|\n",
      "+-----+-------------------+\n",
      "\n"
     ]
    }
   ],
   "source": [
    "(\n",
    "    weather.withColumn('month', month('date'))\n",
    "    .groupBy('month').\n",
    "    agg(mean('precipitation').alias('mean_precipitation'))\n",
    "    .sort(desc('mean_precipitation'))\n",
    "    .show()\n",
    ")"
   ]
  },
  {
   "cell_type": "markdown",
   "id": "c1264cb1-5fdb-4cae-bce8-64af55e3c2fa",
   "metadata": {},
   "source": [
    "- Which year was the windiest?"
   ]
  },
  {
   "cell_type": "code",
   "execution_count": 26,
   "id": "ca752996-e615-4eac-8c11-e65e4aafe2b3",
   "metadata": {},
   "outputs": [
    {
     "name": "stdout",
     "output_type": "stream",
     "text": [
      "+----+------------------+\n",
      "|year|        Total Wind|\n",
      "+----+------------------+\n",
      "|2012|1244.6999999999998|\n",
      "|2013|1100.8000000000002|\n",
      "|2014|1236.5000000000005|\n",
      "|2015|            1153.3|\n",
      "+----+------------------+\n",
      "\n"
     ]
    }
   ],
   "source": [
    "(\n",
    "    weather.withColumn('year', year('date'))\n",
    "    .groupBy('year')\n",
    "    .agg(sum('wind').alias('Total Wind'))\n",
    "    .show()\n",
    ")"
   ]
  },
  {
   "cell_type": "markdown",
   "id": "a38b8e0c-794e-447b-b039-8c706a673713",
   "metadata": {},
   "source": [
    "- What is the most frequent type of weather in January?"
   ]
  },
  {
   "cell_type": "code",
   "execution_count": 27,
   "id": "7793d53b-465c-4679-9def-ca5fd4d1f2d1",
   "metadata": {},
   "outputs": [
    {
     "name": "stdout",
     "output_type": "stream",
     "text": [
      "+-------+-----+\n",
      "|weather|count|\n",
      "+-------+-----+\n",
      "|    fog|   38|\n",
      "|   rain|   35|\n",
      "|    sun|   33|\n",
      "|drizzle|   10|\n",
      "|   snow|    8|\n",
      "+-------+-----+\n",
      "\n"
     ]
    }
   ],
   "source": [
    "(\n",
    "    weather.withColumn('month', month('date'))\n",
    "    .filter(col('month') == 1)\n",
    "    .groupBy('weather')\n",
    "    .count()\n",
    "    .sort(desc('count'))\n",
    "    .show()\n",
    ")"
   ]
  },
  {
   "cell_type": "markdown",
   "id": "0b300328-0e1c-4a67-836b-d7d08b6a7e07",
   "metadata": {},
   "source": [
    "- What is the average high and low temperature on sunny days in July in 2013 and 2014?"
   ]
  },
  {
   "cell_type": "code",
   "execution_count": 28,
   "id": "edb0a269-5c46-4a35-9784-a2e5b98ffac7",
   "metadata": {},
   "outputs": [
    {
     "name": "stdout",
     "output_type": "stream",
     "text": [
      "+-------------------+\n",
      "|average_high_temp_C|\n",
      "+-------------------+\n",
      "| 26.828846153846158|\n",
      "+-------------------+\n",
      "\n"
     ]
    }
   ],
   "source": [
    "(\n",
    "    weather.withColumn('month', month('date'))\n",
    "    .withColumn('year', year('date'))\n",
    "    .filter(((col('year') == 2013) | (col('year') == 2014)) & (col('month') == 7))\n",
    "    .filter(weather.weather == 'sun')\n",
    "    .select(mean('temp_max').alias('average_high_temp_C'))\n",
    "    .show()\n",
    ")"
   ]
  },
  {
   "cell_type": "code",
   "execution_count": 29,
   "id": "ca533fff-af94-42a9-bd2b-f62f5933cbdc",
   "metadata": {},
   "outputs": [
    {
     "name": "stdout",
     "output_type": "stream",
     "text": [
      "+------------------+\n",
      "|average_low_temp_C|\n",
      "+------------------+\n",
      "| 14.18269230769231|\n",
      "+------------------+\n",
      "\n"
     ]
    }
   ],
   "source": [
    "(\n",
    "    weather.withColumn('month', month('date'))\n",
    "    .withColumn('year', year('date'))\n",
    "    .filter(((col('year') == 2013) | (col('year') == 2014)) & (col('month') == 7))\n",
    "    .filter(weather.weather == 'sun')\n",
    "    .select(mean('temp_min').alias('average_low_temp_C'))\n",
    "    .show()\n",
    ")"
   ]
  },
  {
   "cell_type": "code",
   "execution_count": 30,
   "id": "a0a56670-dc4e-4e0a-ad71-e5710be1a042",
   "metadata": {},
   "outputs": [
    {
     "name": "stdout",
     "output_type": "stream",
     "text": [
      "+-------------------+\n",
      "|average_high_temp_F|\n",
      "+-------------------+\n",
      "|  80.29192307692308|\n",
      "+-------------------+\n",
      "\n"
     ]
    }
   ],
   "source": [
    "(\n",
    "    weather.withColumn('temp_max_F', T_to_F(weather.temp_max))\n",
    "    .withColumn('temp_min_F', T_to_F(weather.temp_min))\n",
    "    .withColumn('month', month('date'))\n",
    "    .withColumn('year', year('date'))\n",
    "    .filter(((col('year') == 2013) | (col('year') == 2014)) & (col('month') == 7))\n",
    "    .filter(weather.weather == 'sun')\n",
    "    .select(mean('temp_max_F').alias('average_high_temp_F'))\n",
    "    .show()\n",
    ")"
   ]
  },
  {
   "cell_type": "code",
   "execution_count": 31,
   "id": "6b0189ce-4e33-4db2-b253-dc700b2c6ea9",
   "metadata": {},
   "outputs": [
    {
     "name": "stdout",
     "output_type": "stream",
     "text": [
      "+------------------+\n",
      "|average_low_temp_F|\n",
      "+------------------+\n",
      "| 57.52884615384615|\n",
      "+------------------+\n",
      "\n"
     ]
    }
   ],
   "source": [
    "(\n",
    "    weather.withColumn('temp_max_F', T_to_F(weather.temp_max))\n",
    "    .withColumn('temp_min_F', T_to_F(weather.temp_min))\n",
    "    .withColumn('month', month('date'))\n",
    "    .withColumn('year', year('date'))\n",
    "    .filter(((col('year') == 2013) | (col('year') == 2014)) & (col('month') == 7))\n",
    "    .filter(weather.weather == 'sun')\n",
    "    .select(mean('temp_min_F').alias('average_low_temp_F'))\n",
    "    .show()\n",
    ")"
   ]
  },
  {
   "cell_type": "markdown",
   "id": "fc3b4edb-058b-4c65-a85b-0cdde71041d2",
   "metadata": {},
   "source": [
    "- What percentage of days were rainy in q3 of 2015?"
   ]
  },
  {
   "cell_type": "code",
   "execution_count": 32,
   "id": "456efbe8-6d83-4997-9899-5f9de1e660ea",
   "metadata": {},
   "outputs": [
    {
     "name": "stdout",
     "output_type": "stream",
     "text": [
      "+-------+-----+\n",
      "|weather|count|\n",
      "+-------+-----+\n",
      "|    fog|   21|\n",
      "|    sun|   64|\n",
      "|drizzle|    5|\n",
      "|   rain|    2|\n",
      "|   null|   92|\n",
      "+-------+-----+\n",
      "\n"
     ]
    }
   ],
   "source": [
    "(\n",
    "    weather.withColumn('month', month('date'))\n",
    "    .withColumn('year', year('date'))\n",
    "    .filter(((col('month') == 7) | (col('month') == 8) | (col('month') == 9)) & (col('year') == 2015))\n",
    "    .rollup('weather')\n",
    "    .count()\n",
    "    .show()\n",
    ")"
   ]
  },
  {
   "cell_type": "code",
   "execution_count": 33,
   "id": "4ba1aa3c-2049-4422-9206-24137fae06a7",
   "metadata": {},
   "outputs": [
    {
     "data": {
      "text/plain": [
       "2.1739130434782608"
      ]
     },
     "execution_count": 33,
     "metadata": {},
     "output_type": "execute_result"
    }
   ],
   "source": [
    "(2 / 92) * 100"
   ]
  },
  {
   "cell_type": "markdown",
   "id": "966a5710-472e-4f43-90ab-4a2678b8b4f7",
   "metadata": {},
   "source": [
    "- For each year, find what percentage of days it rained (had non-zero precipitation)."
   ]
  },
  {
   "cell_type": "code",
   "execution_count": 34,
   "id": "7f6d44b2-a23e-4a76-86af-6a74d2a0df8d",
   "metadata": {},
   "outputs": [
    {
     "name": "stdout",
     "output_type": "stream",
     "text": [
      "+----+-------+---+----+----+---+\n",
      "|year|drizzle|fog|rain|snow|sun|\n",
      "+----+-------+---+----+----+---+\n",
      "|2015|      7|173|   5|null|180|\n",
      "|2013|     16| 82|  60|   2|205|\n",
      "|2014|   null|151|   3|null|211|\n",
      "|2012|     31|  5| 191|  21|118|\n",
      "+----+-------+---+----+----+---+\n",
      "\n"
     ]
    }
   ],
   "source": [
    "(\n",
    "    weather.withColumn('year', year('date'))\n",
    "    .groupBy('year')\n",
    "    .pivot('weather')\n",
    "    .count()\n",
    "    .show()\n",
    ")"
   ]
  },
  {
   "cell_type": "code",
   "execution_count": 35,
   "id": "e4469ea7-7151-4da5-86d6-b2248d33f219",
   "metadata": {},
   "outputs": [
    {
     "name": "stdout",
     "output_type": "stream",
     "text": [
      "+------------+-------+---+----+----+---+\n",
      "|year_weather|drizzle|fog|rain|snow|sun|\n",
      "+------------+-------+---+----+----+---+\n",
      "|        2012|     31|  5| 191|  21|118|\n",
      "|        2013|     16| 82|  60|   2|205|\n",
      "|        2014|      0|151|   3|   0|211|\n",
      "|        2015|      7|173|   5|   0|180|\n",
      "+------------+-------+---+----+----+---+\n",
      "\n"
     ]
    }
   ],
   "source": [
    "(\n",
    "    weather.withColumn('year', year('date'))\n",
    "    .crosstab('year', 'weather')\n",
    "    .show()\n",
    ")"
   ]
  },
  {
   "cell_type": "code",
   "execution_count": 36,
   "id": "4ed2615e-100d-46c4-afa2-4945a9221886",
   "metadata": {},
   "outputs": [],
   "source": [
    "rainy_days = (\n",
    "    weather.withColumn('year', year('date'))\n",
    "    .select('*', when(weather.precipitation > 0, 1).otherwise(0).alias('rained'))\n",
    "    .filter(col('rained') == 1)\n",
    "    .groupBy('year')\n",
    "    .agg(count('date').alias('rain_count'))\n",
    ")"
   ]
  },
  {
   "cell_type": "code",
   "execution_count": 37,
   "id": "c977d6e1-3365-442b-8282-80563e129945",
   "metadata": {},
   "outputs": [],
   "source": [
    "total_days = (\n",
    "    weather.withColumn('year', year('date'))\n",
    "    .groupBy('year')\n",
    "    .agg(count('date').alias('total_count'))\n",
    ")"
   ]
  },
  {
   "cell_type": "code",
   "execution_count": 38,
   "id": "0abb83d3-5f40-4f2a-9d6c-e19061e820ff",
   "metadata": {},
   "outputs": [
    {
     "name": "stdout",
     "output_type": "stream",
     "text": [
      "+----+----------+----+-----------+-------------------+\n",
      "|year|rain_count|year|total_count|         proportion|\n",
      "+----+----------+----+-----------+-------------------+\n",
      "|2012|       177|2012|        366|0.48360655737704916|\n",
      "|2013|       152|2013|        365|0.41643835616438357|\n",
      "|2014|       150|2014|        365|  0.410958904109589|\n",
      "|2015|       144|2015|        365|0.39452054794520547|\n",
      "+----+----------+----+-----------+-------------------+\n",
      "\n"
     ]
    }
   ],
   "source": [
    "(\n",
    "    rainy_days.join(total_days, on=rainy_days.year == total_days.year)\n",
    "    .withColumn('proportion', col('rain_count') / col('total_count'))\n",
    "    .show()\n",
    ")"
   ]
  },
  {
   "cell_type": "code",
   "execution_count": 39,
   "id": "5ad1c952-b0cf-4b79-89e3-c5357a7f1ac3",
   "metadata": {},
   "outputs": [
    {
     "name": "stdout",
     "output_type": "stream",
     "text": [
      "+----+----------+----+-----------+-----------------+\n",
      "|year|rain_count|year|total_count|       percentage|\n",
      "+----+----------+----+-----------+-----------------+\n",
      "|2012|       177|2012|        366|48.36065573770492|\n",
      "|2013|       152|2013|        365|41.64383561643836|\n",
      "|2014|       150|2014|        365| 41.0958904109589|\n",
      "|2015|       144|2015|        365|39.45205479452055|\n",
      "+----+----------+----+-----------+-----------------+\n",
      "\n"
     ]
    }
   ],
   "source": [
    "(\n",
    "    rainy_days.join(total_days, on=rainy_days.year == total_days.year)\n",
    "    .withColumn('percentage', (col('rain_count') / col('total_count')*100))\n",
    "    .show()\n",
    ")"
   ]
  }
 ],
 "metadata": {
  "kernelspec": {
   "display_name": "Python 3",
   "language": "python",
   "name": "python3"
  },
  "language_info": {
   "codemirror_mode": {
    "name": "ipython",
    "version": 3
   },
   "file_extension": ".py",
   "mimetype": "text/x-python",
   "name": "python",
   "nbconvert_exporter": "python",
   "pygments_lexer": "ipython3",
   "version": "3.8.8"
  }
 },
 "nbformat": 4,
 "nbformat_minor": 5
}
